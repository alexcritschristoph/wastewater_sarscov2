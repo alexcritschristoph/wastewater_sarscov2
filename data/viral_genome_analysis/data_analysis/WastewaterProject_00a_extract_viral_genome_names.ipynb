{
 "cells": [
  {
   "cell_type": "code",
   "execution_count": 1,
   "metadata": {},
   "outputs": [],
   "source": [
    "import os\n",
    "import sys\n",
    "import glob\n",
    "import scipy\n",
    "import skbio\n",
    "import matplotlib\n",
    "import numpy as np\n",
    "import pandas as pd\n",
    "import seaborn as sns\n",
    "from collections import defaultdict\n",
    "from matplotlib import pyplot as plt\n",
    "from matplotlib.backends.backend_pdf import PdfPages\n",
    "\n",
    "%matplotlib inline\n",
    "sns.set_style('whitegrid')\n",
    "matplotlib.rcParams['ps.fonttype'] = 42\n",
    "matplotlib.rcParams['pdf.fonttype'] = 42\n",
    "\n",
    "from IPython.display import display, HTML\n",
    "import tRep\n",
    "\n",
    "import warnings\n",
    "warnings.filterwarnings(\"ignore\")\n",
    "\n",
    "pd.options.display.max_columns = 100\n",
    "pd.options.display.max_colwidth = 500\n",
    "pd.options.display.max_rows = 100"
   ]
  },
  {
   "cell_type": "code",
   "execution_count": 2,
   "metadata": {},
   "outputs": [],
   "source": [
    "genome_file = '/data/viral_genome_analysis/viral_genomes/all_viral_genomes.fna'"
   ]
  },
  {
   "cell_type": "code",
   "execution_count": 9,
   "metadata": {},
   "outputs": [
    {
     "data": {
      "text/plain": [
       "12029"
      ]
     },
     "execution_count": 9,
     "metadata": {},
     "output_type": "execute_result"
    }
   ],
   "source": [
    "from Bio import SeqIO\n",
    "\n",
    "header2name = {}\n",
    "for seq_record in SeqIO.parse(genome_file, \"fasta\"):\n",
    "#     print(seq_record.id)\n",
    "#     print(seq_record.description)\n",
    "#     print(seq_record.description.split(seq_record.id)[1])\n",
    "    header2name[seq_record.id] = seq_record.description.split(seq_record.id)[1]\n",
    "len(header2name)"
   ]
  },
  {
   "cell_type": "code",
   "execution_count": 11,
   "metadata": {},
   "outputs": [
    {
     "data": {
      "text/html": [
       "<div>\n",
       "<style scoped>\n",
       "    .dataframe tbody tr th:only-of-type {\n",
       "        vertical-align: middle;\n",
       "    }\n",
       "\n",
       "    .dataframe tbody tr th {\n",
       "        vertical-align: top;\n",
       "    }\n",
       "\n",
       "    .dataframe thead th {\n",
       "        text-align: right;\n",
       "    }\n",
       "</style>\n",
       "<table border=\"1\" class=\"dataframe\">\n",
       "  <thead>\n",
       "    <tr style=\"text-align: right;\">\n",
       "      <th></th>\n",
       "      <th>viral_NCBI_refname</th>\n",
       "      <th>description</th>\n",
       "    </tr>\n",
       "  </thead>\n",
       "  <tbody>\n",
       "    <tr>\n",
       "      <th>0</th>\n",
       "      <td>NC_010318.1</td>\n",
       "      <td>Abaca bunchy top virus DNA-C, complete sequence</td>\n",
       "    </tr>\n",
       "    <tr>\n",
       "      <th>1</th>\n",
       "      <td>NC_010317.1</td>\n",
       "      <td>Abaca bunchy top virus DNA-M, complete genome</td>\n",
       "    </tr>\n",
       "    <tr>\n",
       "      <th>2</th>\n",
       "      <td>NC_010314.1</td>\n",
       "      <td>Abaca bunchy top virus DNA-N, complete genome</td>\n",
       "    </tr>\n",
       "    <tr>\n",
       "      <th>3</th>\n",
       "      <td>NC_010319.1</td>\n",
       "      <td>Abaca bunchy top virus DNA-R, complete genome</td>\n",
       "    </tr>\n",
       "    <tr>\n",
       "      <th>4</th>\n",
       "      <td>NC_010316.1</td>\n",
       "      <td>Abaca bunchy top virus DNA-S, complete genome</td>\n",
       "    </tr>\n",
       "    <tr>\n",
       "      <th>...</th>\n",
       "      <td>...</td>\n",
       "      <td>...</td>\n",
       "    </tr>\n",
       "    <tr>\n",
       "      <th>12024</th>\n",
       "      <td>NC_043172.1</td>\n",
       "      <td>Zucchini shoestring virus polyprotein gene, complete cds; and PIPO gene, partial cds</td>\n",
       "    </tr>\n",
       "    <tr>\n",
       "      <th>12025</th>\n",
       "      <td>NC_023175.1</td>\n",
       "      <td>Zucchini tigre mosaic virus isolate Re01-25, complete genome</td>\n",
       "    </tr>\n",
       "    <tr>\n",
       "      <th>12026</th>\n",
       "      <td>NC_003224.1</td>\n",
       "      <td>Zucchini yellow mosaic virus, complete genome</td>\n",
       "    </tr>\n",
       "    <tr>\n",
       "      <th>12027</th>\n",
       "      <td>NC_006059.1</td>\n",
       "      <td>Zygocactus virus X, complete genome</td>\n",
       "    </tr>\n",
       "    <tr>\n",
       "      <th>12028</th>\n",
       "      <td>NC_003874.1</td>\n",
       "      <td>Zygosaccharomyces bailii virus Z, complete genome</td>\n",
       "    </tr>\n",
       "  </tbody>\n",
       "</table>\n",
       "<p>12029 rows × 2 columns</p>\n",
       "</div>"
      ],
      "text/plain": [
       "      viral_NCBI_refname  \\\n",
       "0            NC_010318.1   \n",
       "1            NC_010317.1   \n",
       "2            NC_010314.1   \n",
       "3            NC_010319.1   \n",
       "4            NC_010316.1   \n",
       "...                  ...   \n",
       "12024        NC_043172.1   \n",
       "12025        NC_023175.1   \n",
       "12026        NC_003224.1   \n",
       "12027        NC_006059.1   \n",
       "12028        NC_003874.1   \n",
       "\n",
       "                                                                                 description  \n",
       "0                                            Abaca bunchy top virus DNA-C, complete sequence  \n",
       "1                                              Abaca bunchy top virus DNA-M, complete genome  \n",
       "2                                              Abaca bunchy top virus DNA-N, complete genome  \n",
       "3                                              Abaca bunchy top virus DNA-R, complete genome  \n",
       "4                                              Abaca bunchy top virus DNA-S, complete genome  \n",
       "...                                                                                      ...  \n",
       "12024   Zucchini shoestring virus polyprotein gene, complete cds; and PIPO gene, partial cds  \n",
       "12025                           Zucchini tigre mosaic virus isolate Re01-25, complete genome  \n",
       "12026                                          Zucchini yellow mosaic virus, complete genome  \n",
       "12027                                                    Zygocactus virus X, complete genome  \n",
       "12028                                      Zygosaccharomyces bailii virus Z, complete genome  \n",
       "\n",
       "[12029 rows x 2 columns]"
      ]
     },
     "execution_count": 11,
     "metadata": {},
     "output_type": "execute_result"
    }
   ],
   "source": [
    "Gdb = pd.DataFrame(header2name.items(), columns=['viral_NCBI_refname', 'description'])\n",
    "Gdb"
   ]
  },
  {
   "cell_type": "code",
   "execution_count": 12,
   "metadata": {},
   "outputs": [],
   "source": [
    "Gdb.to_csv('/data/viral_genome_analysis/tables/metadata/viral_name_df.csv',index=False)"
   ]
  },
  {
   "cell_type": "code",
   "execution_count": null,
   "metadata": {},
   "outputs": [],
   "source": []
  }
 ],
 "metadata": {
  "kernelspec": {
   "display_name": "Python 3",
   "language": "python",
   "name": "python3"
  },
  "language_info": {
   "codemirror_mode": {
    "name": "ipython",
    "version": 3
   },
   "file_extension": ".py",
   "mimetype": "text/x-python",
   "name": "python",
   "nbconvert_exporter": "python",
   "pygments_lexer": "ipython3",
   "version": "3.8.2"
  }
 },
 "nbformat": 4,
 "nbformat_minor": 4
}
