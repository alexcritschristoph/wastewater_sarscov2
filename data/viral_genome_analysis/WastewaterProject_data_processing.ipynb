{
 "cells": [
  {
   "cell_type": "markdown",
   "metadata": {},
   "source": [
    "### NOTE\n",
    "\n",
    "This contains **All** samples/reads for the project (all data sent by 8/20/2020)\n",
    "\n",
    "    - some issues with the reads sent by CC on 8/19 so reprocessing them now on 8/20"
   ]
  },
  {
   "cell_type": "markdown",
   "metadata": {},
   "source": [
    "#### raw read original locations \n",
    "1. /groups/banfield/projects/industrial/wastewater_bayarea/2020/no_duplicates_for_clare/ (34 samples)\n",
    "\n",
    "#### viral genome location (same as g1 jupyter notebook!)\n",
    "- /groups/banfield/users/alexcc/wastewater/krakenuniq/kraken_viral_db/library/viral/Complete_Genome/\n",
    "- Note that I copied all .fna genomes (9504 genomes) from the original folder to my own directory. "
   ]
  },
  {
   "cell_type": "markdown",
   "metadata": {},
   "source": [
    "### Generating read bases count"
   ]
  },
  {
   "cell_type": "code",
   "execution_count": 13,
   "metadata": {
    "scrolled": true
   },
   "outputs": [
    {
     "name": "stdout",
     "output_type": "stream",
     "text": [
      "mv /groups/banfield/projects/human/data3/clou/wastewater/raw_reads/renamed_reads/S_3_6_30_MOS_S13_R1_001.fastq.gz /groups/banfield/projects/human/data3/clou/wastewater/raw_reads/renamed_reads/S_3_6_30_MOS_S13.R1.001.fastq.gz\n",
      "mv /groups/banfield/projects/human/data3/clou/wastewater/raw_reads/renamed_reads/S_3_6_30_MOS_S13_R2_001.fastq.gz /groups/banfield/projects/human/data3/clou/wastewater/raw_reads/renamed_reads/S_3_6_30_MOS_S13.R2.001.fastq.gz\n",
      "mv /groups/banfield/projects/human/data3/clou/wastewater/raw_reads/renamed_reads/5_28_I_S25_R1_001.fastq.gz /groups/banfield/projects/human/data3/clou/wastewater/raw_reads/renamed_reads/5_28_I_S25.R1.001.fastq.gz\n",
      "mv /groups/banfield/projects/human/data3/clou/wastewater/raw_reads/renamed_reads/5_28_I_S25_R2_001.fastq.gz /groups/banfield/projects/human/data3/clou/wastewater/raw_reads/renamed_reads/5_28_I_S25.R2.001.fastq.gz\n",
      "mv /groups/banfield/projects/human/data3/clou/wastewater/raw_reads/renamed_reads/S_3_6_30_COL_S14_R1_001.fastq.gz /groups/banfield/projects/human/data3/clou/wastewater/raw_reads/renamed_reads/S_3_6_30_COL_S14.R1.001.fastq.gz\n",
      "mv /groups/banfield/projects/human/data3/clou/wastewater/raw_reads/renamed_reads/S_3_6_30_COL_S14_R2_001.fastq.gz /groups/banfield/projects/human/data3/clou/wastewater/raw_reads/renamed_reads/S_3_6_30_COL_S14.R2.001.fastq.gz\n",
      "mv /groups/banfield/projects/human/data3/clou/wastewater/raw_reads/renamed_reads/6_02_Sc_S29_R1_001.fastq.gz /groups/banfield/projects/human/data3/clou/wastewater/raw_reads/renamed_reads/6_02_Sc_S29.R1.001.fastq.gz\n",
      "mv /groups/banfield/projects/human/data3/clou/wastewater/raw_reads/renamed_reads/6_02_Sc_S29_R2_001.fastq.gz /groups/banfield/projects/human/data3/clou/wastewater/raw_reads/renamed_reads/6_02_Sc_S29.R2.001.fastq.gz\n",
      "mv /groups/banfield/projects/human/data3/clou/wastewater/raw_reads/renamed_reads/6_02_Nc_S27_R1_001.fastq.gz /groups/banfield/projects/human/data3/clou/wastewater/raw_reads/renamed_reads/6_02_Nc_S27.R1.001.fastq.gz\n",
      "mv /groups/banfield/projects/human/data3/clou/wastewater/raw_reads/renamed_reads/6_02_Nc_S27_R2_001.fastq.gz /groups/banfield/projects/human/data3/clou/wastewater/raw_reads/renamed_reads/6_02_Nc_S27.R2.001.fastq.gz\n",
      "mv /groups/banfield/projects/human/data3/clou/wastewater/raw_reads/renamed_reads/5_19_F_S3_R1_001.fastq.gz /groups/banfield/projects/human/data3/clou/wastewater/raw_reads/renamed_reads/5_19_F_S3.R1.001.fastq.gz\n",
      "mv /groups/banfield/projects/human/data3/clou/wastewater/raw_reads/renamed_reads/5_19_F_S3_R2_001.fastq.gz /groups/banfield/projects/human/data3/clou/wastewater/raw_reads/renamed_reads/5_19_F_S3.R2.001.fastq.gz\n",
      "mv /groups/banfield/projects/human/data3/clou/wastewater/raw_reads/renamed_reads/5_13_C_S2_R1_001.fastq.gz /groups/banfield/projects/human/data3/clou/wastewater/raw_reads/renamed_reads/5_13_C_S2.R1.001.fastq.gz\n",
      "mv /groups/banfield/projects/human/data3/clou/wastewater/raw_reads/renamed_reads/5_13_C_S2_R2_001.fastq.gz /groups/banfield/projects/human/data3/clou/wastewater/raw_reads/renamed_reads/5_13_C_S2.R2.001.fastq.gz\n",
      "mv /groups/banfield/projects/human/data3/clou/wastewater/raw_reads/renamed_reads/6_02_Ac_S31_R1_001.fastq.gz /groups/banfield/projects/human/data3/clou/wastewater/raw_reads/renamed_reads/6_02_Ac_S31.R1.001.fastq.gz\n",
      "mv /groups/banfield/projects/human/data3/clou/wastewater/raw_reads/renamed_reads/6_02_Ac_S31_R2_001.fastq.gz /groups/banfield/projects/human/data3/clou/wastewater/raw_reads/renamed_reads/6_02_Ac_S31.R2.001.fastq.gz\n",
      "mv /groups/banfield/projects/human/data3/clou/wastewater/raw_reads/renamed_reads/5_13_A_S1_R1_001.fastq.gz /groups/banfield/projects/human/data3/clou/wastewater/raw_reads/renamed_reads/5_13_A_S1.R1.001.fastq.gz\n",
      "mv /groups/banfield/projects/human/data3/clou/wastewater/raw_reads/renamed_reads/5_13_A_S1_R2_001.fastq.gz /groups/banfield/projects/human/data3/clou/wastewater/raw_reads/renamed_reads/5_13_A_S1.R2.001.fastq.gz\n",
      "mv /groups/banfield/projects/human/data3/clou/wastewater/raw_reads/renamed_reads/6_09_N1_S30_R1_001.fastq.gz /groups/banfield/projects/human/data3/clou/wastewater/raw_reads/renamed_reads/6_09_N1_S30.R1.001.fastq.gz\n",
      "mv /groups/banfield/projects/human/data3/clou/wastewater/raw_reads/renamed_reads/6_09_N1_S30_R2_001.fastq.gz /groups/banfield/projects/human/data3/clou/wastewater/raw_reads/renamed_reads/6_09_N1_S30.R2.001.fastq.gz\n",
      "mv /groups/banfield/projects/human/data3/clou/wastewater/raw_reads/renamed_reads/5_28_E_S26_R1_001.fastq.gz /groups/banfield/projects/human/data3/clou/wastewater/raw_reads/renamed_reads/5_28_E_S26.R1.001.fastq.gz\n",
      "mv /groups/banfield/projects/human/data3/clou/wastewater/raw_reads/renamed_reads/5_28_E_S26_R2_001.fastq.gz /groups/banfield/projects/human/data3/clou/wastewater/raw_reads/renamed_reads/5_28_E_S26.R2.001.fastq.gz\n",
      "mv /groups/banfield/projects/human/data3/clou/wastewater/raw_reads/renamed_reads/5_19_A_S4_R1_001.fastq.gz /groups/banfield/projects/human/data3/clou/wastewater/raw_reads/renamed_reads/5_19_A_S4.R1.001.fastq.gz\n",
      "mv /groups/banfield/projects/human/data3/clou/wastewater/raw_reads/renamed_reads/5_19_A_S4_R2_001.fastq.gz /groups/banfield/projects/human/data3/clou/wastewater/raw_reads/renamed_reads/5_19_A_S4.R2.001.fastq.gz\n",
      "mv /groups/banfield/projects/human/data3/clou/wastewater/raw_reads/renamed_reads/9_09_S1_S33_R1_001.fastq.gz /groups/banfield/projects/human/data3/clou/wastewater/raw_reads/renamed_reads/9_09_S1_S33.R1.001.fastq.gz\n",
      "mv /groups/banfield/projects/human/data3/clou/wastewater/raw_reads/renamed_reads/9_09_S1_S33_R2_001.fastq.gz /groups/banfield/projects/human/data3/clou/wastewater/raw_reads/renamed_reads/9_09_S1_S33.R2.001.fastq.gz\n",
      "mv /groups/banfield/projects/human/data3/clou/wastewater/raw_reads/renamed_reads/MR_1_7_1_MOS_S16_R1_001.fastq.gz /groups/banfield/projects/human/data3/clou/wastewater/raw_reads/renamed_reads/MR_1_7_1_MOS_S16.R1.001.fastq.gz\n",
      "mv /groups/banfield/projects/human/data3/clou/wastewater/raw_reads/renamed_reads/MR_1_7_1_MOS_S16_R2_001.fastq.gz /groups/banfield/projects/human/data3/clou/wastewater/raw_reads/renamed_reads/MR_1_7_1_MOS_S16.R2.001.fastq.gz\n",
      "mv /groups/banfield/projects/human/data3/clou/wastewater/raw_reads/renamed_reads/SQ_3_7_1_MOS_S15_R1_001.fastq.gz /groups/banfield/projects/human/data3/clou/wastewater/raw_reads/renamed_reads/SQ_3_7_1_MOS_S15.R1.001.fastq.gz\n",
      "mv /groups/banfield/projects/human/data3/clou/wastewater/raw_reads/renamed_reads/SQ_3_7_1_MOS_S15_R2_001.fastq.gz /groups/banfield/projects/human/data3/clou/wastewater/raw_reads/renamed_reads/SQ_3_7_1_MOS_S15.R2.001.fastq.gz\n",
      "mv /groups/banfield/projects/human/data3/clou/wastewater/raw_reads/renamed_reads/5_28_A_S28_R1_001.fastq.gz /groups/banfield/projects/human/data3/clou/wastewater/raw_reads/renamed_reads/5_28_A_S28.R1.001.fastq.gz\n",
      "mv /groups/banfield/projects/human/data3/clou/wastewater/raw_reads/renamed_reads/5_28_A_S28_R2_001.fastq.gz /groups/banfield/projects/human/data3/clou/wastewater/raw_reads/renamed_reads/5_28_A_S28.R2.001.fastq.gz\n"
     ]
    }
   ],
   "source": [
    "import os,glob\n",
    "from subprocess import call \n",
    "# rename some reads\n",
    "\n",
    "for r1 in glob.glob('/groups/banfield/projects/human/data3/clou/wastewater/raw_reads/renamed_reads/*_R1_001.fastq.gz'):\n",
    "    basename = os.path.basename(r1).split(\"_R1\")[0]\n",
    "    r2 = \"/groups/banfield/projects/human/data3/clou/wastewater/raw_reads/renamed_reads/\" + basename + '_R2_001.fastq.gz'\n",
    "    \n",
    "    new_r1 = '/groups/banfield/projects/human/data3/clou/wastewater/raw_reads/renamed_reads/{}'.format(basename) + '.R1.001.fastq.gz'\n",
    "    new_r2 = '/groups/banfield/projects/human/data3/clou/wastewater/raw_reads/renamed_reads/{}'.format(basename) + '.R2.001.fastq.gz'\n",
    "    \n",
    "    cmd1 = 'mv {} {}'.format(r1,new_r1)\n",
    "    cmd2 = 'mv {} {}'.format(r2,new_r2)\n",
    "    cmds = cmd1 + \"\\n\" + cmd2\n",
    "    print(cmds)\n",
    "    call(cmds,shell=True)"
   ]
  },
  {
   "cell_type": "code",
   "execution_count": null,
   "metadata": {},
   "outputs": [],
   "source": [
    "for r1 in $(ls *R1*fastq.gz); do code=$(echo $r1 | cut -d '.' -f 1); printf $code ;printf \"\\t\"; zcat $r1 | awk -f /groups/banfield/users/mattolm/Bio_scripts/readsProfile.awk | awk '{print \"\\t\" $2 \"\\t\" $4}'; done > /groups/banfield/projects/human/data3/clou/wastewater/Datasheets/waster_water_2020Aug20.readDepths\n"
   ]
  },
  {
   "cell_type": "markdown",
   "metadata": {},
   "source": [
    "## Mapping"
   ]
  },
  {
   "cell_type": "markdown",
   "metadata": {},
   "source": [
    "### Mapping reads to the complete viral genome set"
   ]
  },
  {
   "cell_type": "markdown",
   "metadata": {},
   "source": [
    "#### build index for all viral genomes\n",
    "\n",
    "already done when running 8 samples from g1"
   ]
  },
  {
   "cell_type": "markdown",
   "metadata": {},
   "source": [
    "#### Mapping"
   ]
  },
  {
   "cell_type": "code",
   "execution_count": 16,
   "metadata": {
    "scrolled": true
   },
   "outputs": [
    {
     "name": "stdout",
     "output_type": "stream",
     "text": [
      "bowtie2 -p 20 -x /groups/banfield/projects/human/data3/clou/wastewater/Mapping_to_viral_genomes/bt2/all_viral_genomes.fna -1 /groups/banfield/projects/human/data3/clou/wastewater/raw_reads/renamed_reads/6_02_Ac_S31.R1.001.fastq.gz -2 /groups/banfield/projects/human/data3/clou/wastewater/raw_reads/renamed_reads/6_02_Ac_S31.R2.001.fastq.gz 2> /groups/banfield/projects/human/data3/clou/wastewater/Mapping_to_viral_genomes/all_viral_genomes-vs-6_02_Ac_S31_mapped.log | shrinksam | sambam > /groups/banfield/projects/human/data3/clou/wastewater/Mapping_to_viral_genomes/all_viral_genomes-vs-6_02_Ac_S31.shrink.sort.bam\n",
      "\n",
      "bowtie2 -p 20 -x /groups/banfield/projects/human/data3/clou/wastewater/Mapping_to_viral_genomes/bt2/all_viral_genomes.fna -1 /groups/banfield/projects/human/data3/clou/wastewater/raw_reads/renamed_reads/MR3.R1.fastq.gz -2 /groups/banfield/projects/human/data3/clou/wastewater/raw_reads/renamed_reads/MR3.R2.fastq.gz 2> /groups/banfield/projects/human/data3/clou/wastewater/Mapping_to_viral_genomes/all_viral_genomes-vs-MR3_mapped.log | shrinksam | sambam > /groups/banfield/projects/human/data3/clou/wastewater/Mapping_to_viral_genomes/all_viral_genomes-vs-MR3.shrink.sort.bam\n",
      "\n",
      "bowtie2 -p 20 -x /groups/banfield/projects/human/data3/clou/wastewater/Mapping_to_viral_genomes/bt2/all_viral_genomes.fna -1 /groups/banfield/projects/human/data3/clou/wastewater/raw_reads/renamed_reads/5_13_A_S1.R1.001.fastq.gz -2 /groups/banfield/projects/human/data3/clou/wastewater/raw_reads/renamed_reads/5_13_A_S1.R2.001.fastq.gz 2> /groups/banfield/projects/human/data3/clou/wastewater/Mapping_to_viral_genomes/all_viral_genomes-vs-5_13_A_S1_mapped.log | shrinksam | sambam > /groups/banfield/projects/human/data3/clou/wastewater/Mapping_to_viral_genomes/all_viral_genomes-vs-5_13_A_S1.shrink.sort.bam\n",
      "\n",
      "bowtie2 -p 20 -x /groups/banfield/projects/human/data3/clou/wastewater/Mapping_to_viral_genomes/bt2/all_viral_genomes.fna -1 /groups/banfield/projects/human/data3/clou/wastewater/raw_reads/renamed_reads/p630-S2.R1.fastq.gz -2 /groups/banfield/projects/human/data3/clou/wastewater/raw_reads/renamed_reads/p630-S2.R2.fastq.gz 2> /groups/banfield/projects/human/data3/clou/wastewater/Mapping_to_viral_genomes/all_viral_genomes-vs-p630-S2_mapped.log | shrinksam | sambam > /groups/banfield/projects/human/data3/clou/wastewater/Mapping_to_viral_genomes/all_viral_genomes-vs-p630-S2.shrink.sort.bam\n",
      "\n",
      "bowtie2 -p 20 -x /groups/banfield/projects/human/data3/clou/wastewater/Mapping_to_viral_genomes/bt2/all_viral_genomes.fna -1 /groups/banfield/projects/human/data3/clou/wastewater/raw_reads/renamed_reads/5_13_C_S2.R1.001.fastq.gz -2 /groups/banfield/projects/human/data3/clou/wastewater/raw_reads/renamed_reads/5_13_C_S2.R2.001.fastq.gz 2> /groups/banfield/projects/human/data3/clou/wastewater/Mapping_to_viral_genomes/all_viral_genomes-vs-5_13_C_S2_mapped.log | shrinksam | sambam > /groups/banfield/projects/human/data3/clou/wastewater/Mapping_to_viral_genomes/all_viral_genomes-vs-5_13_C_S2.shrink.sort.bam\n",
      "\n",
      "bowtie2 -p 20 -x /groups/banfield/projects/human/data3/clou/wastewater/Mapping_to_viral_genomes/bt2/all_viral_genomes.fna -1 /groups/banfield/projects/human/data3/clou/wastewater/raw_reads/renamed_reads/5_19_F_S3.R1.001.fastq.gz -2 /groups/banfield/projects/human/data3/clou/wastewater/raw_reads/renamed_reads/5_19_F_S3.R2.001.fastq.gz 2> /groups/banfield/projects/human/data3/clou/wastewater/Mapping_to_viral_genomes/all_viral_genomes-vs-5_19_F_S3_mapped.log | shrinksam | sambam > /groups/banfield/projects/human/data3/clou/wastewater/Mapping_to_viral_genomes/all_viral_genomes-vs-5_19_F_S3.shrink.sort.bam\n",
      "\n",
      "bowtie2 -p 20 -x /groups/banfield/projects/human/data3/clou/wastewater/Mapping_to_viral_genomes/bt2/all_viral_genomes.fna -1 /groups/banfield/projects/human/data3/clou/wastewater/raw_reads/renamed_reads/pMR3.R1.fastq.gz -2 /groups/banfield/projects/human/data3/clou/wastewater/raw_reads/renamed_reads/pMR3.R2.fastq.gz 2> /groups/banfield/projects/human/data3/clou/wastewater/Mapping_to_viral_genomes/all_viral_genomes-vs-pMR3_mapped.log | shrinksam | sambam > /groups/banfield/projects/human/data3/clou/wastewater/Mapping_to_viral_genomes/all_viral_genomes-vs-pMR3.shrink.sort.bam\n",
      "\n",
      "bowtie2 -p 20 -x /groups/banfield/projects/human/data3/clou/wastewater/Mapping_to_viral_genomes/bt2/all_viral_genomes.fna -1 /groups/banfield/projects/human/data3/clou/wastewater/raw_reads/renamed_reads/S_3_6_30_COL_S14.R1.001.fastq.gz -2 /groups/banfield/projects/human/data3/clou/wastewater/raw_reads/renamed_reads/S_3_6_30_COL_S14.R2.001.fastq.gz 2> /groups/banfield/projects/human/data3/clou/wastewater/Mapping_to_viral_genomes/all_viral_genomes-vs-S_3_6_30_COL_S14_mapped.log | shrinksam | sambam > /groups/banfield/projects/human/data3/clou/wastewater/Mapping_to_viral_genomes/all_viral_genomes-vs-S_3_6_30_COL_S14.shrink.sort.bam\n",
      "\n",
      "bowtie2 -p 20 -x /groups/banfield/projects/human/data3/clou/wastewater/Mapping_to_viral_genomes/bt2/all_viral_genomes.fna -1 /groups/banfield/projects/human/data3/clou/wastewater/raw_reads/renamed_reads/SQ1.R1.fastq.gz -2 /groups/banfield/projects/human/data3/clou/wastewater/raw_reads/renamed_reads/SQ1.R2.fastq.gz 2> /groups/banfield/projects/human/data3/clou/wastewater/Mapping_to_viral_genomes/all_viral_genomes-vs-SQ1_mapped.log | shrinksam | sambam > /groups/banfield/projects/human/data3/clou/wastewater/Mapping_to_viral_genomes/all_viral_genomes-vs-SQ1.shrink.sort.bam\n",
      "\n",
      "bowtie2 -p 20 -x /groups/banfield/projects/human/data3/clou/wastewater/Mapping_to_viral_genomes/bt2/all_viral_genomes.fna -1 /groups/banfield/projects/human/data3/clou/wastewater/raw_reads/renamed_reads/6_02_Sc_S29.R1.001.fastq.gz -2 /groups/banfield/projects/human/data3/clou/wastewater/raw_reads/renamed_reads/6_02_Sc_S29.R2.001.fastq.gz 2> /groups/banfield/projects/human/data3/clou/wastewater/Mapping_to_viral_genomes/all_viral_genomes-vs-6_02_Sc_S29_mapped.log | shrinksam | sambam > /groups/banfield/projects/human/data3/clou/wastewater/Mapping_to_viral_genomes/all_viral_genomes-vs-6_02_Sc_S29.shrink.sort.bam\n",
      "\n",
      "bowtie2 -p 20 -x /groups/banfield/projects/human/data3/clou/wastewater/Mapping_to_viral_genomes/bt2/all_viral_genomes.fna -1 /groups/banfield/projects/human/data3/clou/wastewater/raw_reads/renamed_reads/6_02_Nc_S27.R1.001.fastq.gz -2 /groups/banfield/projects/human/data3/clou/wastewater/raw_reads/renamed_reads/6_02_Nc_S27.R2.001.fastq.gz 2> /groups/banfield/projects/human/data3/clou/wastewater/Mapping_to_viral_genomes/all_viral_genomes-vs-6_02_Nc_S27_mapped.log | shrinksam | sambam > /groups/banfield/projects/human/data3/clou/wastewater/Mapping_to_viral_genomes/all_viral_genomes-vs-6_02_Nc_S27.shrink.sort.bam\n",
      "\n",
      "bowtie2 -p 20 -x /groups/banfield/projects/human/data3/clou/wastewater/Mapping_to_viral_genomes/bt2/all_viral_genomes.fna -1 /groups/banfield/projects/human/data3/clou/wastewater/raw_reads/renamed_reads/630-S1.R1.fastq.gz -2 /groups/banfield/projects/human/data3/clou/wastewater/raw_reads/renamed_reads/630-S1.R2.fastq.gz 2> /groups/banfield/projects/human/data3/clou/wastewater/Mapping_to_viral_genomes/all_viral_genomes-vs-630-S1_mapped.log | shrinksam | sambam > /groups/banfield/projects/human/data3/clou/wastewater/Mapping_to_viral_genomes/all_viral_genomes-vs-630-S1.shrink.sort.bam\n",
      "\n",
      "bowtie2 -p 20 -x /groups/banfield/projects/human/data3/clou/wastewater/Mapping_to_viral_genomes/bt2/all_viral_genomes.fna -1 /groups/banfield/projects/human/data3/clou/wastewater/raw_reads/renamed_reads/S_3_6_30_MOS_S13.R1.001.fastq.gz -2 /groups/banfield/projects/human/data3/clou/wastewater/raw_reads/renamed_reads/S_3_6_30_MOS_S13.R2.001.fastq.gz 2> /groups/banfield/projects/human/data3/clou/wastewater/Mapping_to_viral_genomes/all_viral_genomes-vs-S_3_6_30_MOS_S13_mapped.log | shrinksam | sambam > /groups/banfield/projects/human/data3/clou/wastewater/Mapping_to_viral_genomes/all_viral_genomes-vs-S_3_6_30_MOS_S13.shrink.sort.bam\n",
      "\n",
      "bowtie2 -p 20 -x /groups/banfield/projects/human/data3/clou/wastewater/Mapping_to_viral_genomes/bt2/all_viral_genomes.fna -1 /groups/banfield/projects/human/data3/clou/wastewater/raw_reads/renamed_reads/pSQ1.R1.fastq.gz -2 /groups/banfield/projects/human/data3/clou/wastewater/raw_reads/renamed_reads/pSQ1.R2.fastq.gz 2> /groups/banfield/projects/human/data3/clou/wastewater/Mapping_to_viral_genomes/all_viral_genomes-vs-pSQ1_mapped.log | shrinksam | sambam > /groups/banfield/projects/human/data3/clou/wastewater/Mapping_to_viral_genomes/all_viral_genomes-vs-pSQ1.shrink.sort.bam\n",
      "\n",
      "bowtie2 -p 20 -x /groups/banfield/projects/human/data3/clou/wastewater/Mapping_to_viral_genomes/bt2/all_viral_genomes.fna -1 /groups/banfield/projects/human/data3/clou/wastewater/raw_reads/renamed_reads/630-N.R1.fastq.gz -2 /groups/banfield/projects/human/data3/clou/wastewater/raw_reads/renamed_reads/630-N.R2.fastq.gz 2> /groups/banfield/projects/human/data3/clou/wastewater/Mapping_to_viral_genomes/all_viral_genomes-vs-630-N_mapped.log | shrinksam | sambam > /groups/banfield/projects/human/data3/clou/wastewater/Mapping_to_viral_genomes/all_viral_genomes-vs-630-N.shrink.sort.bam\n",
      "\n",
      "bowtie2 -p 20 -x /groups/banfield/projects/human/data3/clou/wastewater/Mapping_to_viral_genomes/bt2/all_viral_genomes.fna -1 /groups/banfield/projects/human/data3/clou/wastewater/raw_reads/renamed_reads/5_28_I_S25.R1.001.fastq.gz -2 /groups/banfield/projects/human/data3/clou/wastewater/raw_reads/renamed_reads/5_28_I_S25.R2.001.fastq.gz 2> /groups/banfield/projects/human/data3/clou/wastewater/Mapping_to_viral_genomes/all_viral_genomes-vs-5_28_I_S25_mapped.log | shrinksam | sambam > /groups/banfield/projects/human/data3/clou/wastewater/Mapping_to_viral_genomes/all_viral_genomes-vs-5_28_I_S25.shrink.sort.bam\n",
      "\n",
      "bowtie2 -p 20 -x /groups/banfield/projects/human/data3/clou/wastewater/Mapping_to_viral_genomes/bt2/all_viral_genomes.fna -1 /groups/banfield/projects/human/data3/clou/wastewater/raw_reads/renamed_reads/pS68-1.R1.fastq.gz -2 /groups/banfield/projects/human/data3/clou/wastewater/raw_reads/renamed_reads/pS68-1.R2.fastq.gz 2> /groups/banfield/projects/human/data3/clou/wastewater/Mapping_to_viral_genomes/all_viral_genomes-vs-pS68-1_mapped.log | shrinksam | sambam > /groups/banfield/projects/human/data3/clou/wastewater/Mapping_to_viral_genomes/all_viral_genomes-vs-pS68-1.shrink.sort.bam\n",
      "\n",
      "bowtie2 -p 20 -x /groups/banfield/projects/human/data3/clou/wastewater/Mapping_to_viral_genomes/bt2/all_viral_genomes.fna -1 /groups/banfield/projects/human/data3/clou/wastewater/raw_reads/renamed_reads/p630-SF1.R1.fastq.gz -2 /groups/banfield/projects/human/data3/clou/wastewater/raw_reads/renamed_reads/p630-SF1.R2.fastq.gz 2> /groups/banfield/projects/human/data3/clou/wastewater/Mapping_to_viral_genomes/all_viral_genomes-vs-p630-SF1_mapped.log | shrinksam | sambam > /groups/banfield/projects/human/data3/clou/wastewater/Mapping_to_viral_genomes/all_viral_genomes-vs-p630-SF1.shrink.sort.bam\n",
      "\n",
      "bowtie2 -p 20 -x /groups/banfield/projects/human/data3/clou/wastewater/Mapping_to_viral_genomes/bt2/all_viral_genomes.fna -1 /groups/banfield/projects/human/data3/clou/wastewater/raw_reads/renamed_reads/pSQ2.R1.fastq.gz -2 /groups/banfield/projects/human/data3/clou/wastewater/raw_reads/renamed_reads/pSQ2.R2.fastq.gz 2> /groups/banfield/projects/human/data3/clou/wastewater/Mapping_to_viral_genomes/all_viral_genomes-vs-pSQ2_mapped.log | shrinksam | sambam > /groups/banfield/projects/human/data3/clou/wastewater/Mapping_to_viral_genomes/all_viral_genomes-vs-pSQ2.shrink.sort.bam\n",
      "\n",
      "bowtie2 -p 20 -x /groups/banfield/projects/human/data3/clou/wastewater/Mapping_to_viral_genomes/bt2/all_viral_genomes.fna -1 /groups/banfield/projects/human/data3/clou/wastewater/raw_reads/renamed_reads/630-S2.R1.fastq.gz -2 /groups/banfield/projects/human/data3/clou/wastewater/raw_reads/renamed_reads/630-S2.R2.fastq.gz 2> /groups/banfield/projects/human/data3/clou/wastewater/Mapping_to_viral_genomes/all_viral_genomes-vs-630-S2_mapped.log | shrinksam | sambam > /groups/banfield/projects/human/data3/clou/wastewater/Mapping_to_viral_genomes/all_viral_genomes-vs-630-S2.shrink.sort.bam\n",
      "\n",
      "bowtie2 -p 20 -x /groups/banfield/projects/human/data3/clou/wastewater/Mapping_to_viral_genomes/bt2/all_viral_genomes.fna -1 /groups/banfield/projects/human/data3/clou/wastewater/raw_reads/renamed_reads/S68-1.R1.fastq.gz -2 /groups/banfield/projects/human/data3/clou/wastewater/raw_reads/renamed_reads/S68-1.R2.fastq.gz 2> /groups/banfield/projects/human/data3/clou/wastewater/Mapping_to_viral_genomes/all_viral_genomes-vs-S68-1_mapped.log | shrinksam | sambam > /groups/banfield/projects/human/data3/clou/wastewater/Mapping_to_viral_genomes/all_viral_genomes-vs-S68-1.shrink.sort.bam\n",
      "\n",
      "bowtie2 -p 20 -x /groups/banfield/projects/human/data3/clou/wastewater/Mapping_to_viral_genomes/bt2/all_viral_genomes.fna -1 /groups/banfield/projects/human/data3/clou/wastewater/raw_reads/renamed_reads/5_28_A_S28.R1.001.fastq.gz -2 /groups/banfield/projects/human/data3/clou/wastewater/raw_reads/renamed_reads/5_28_A_S28.R2.001.fastq.gz 2> /groups/banfield/projects/human/data3/clou/wastewater/Mapping_to_viral_genomes/all_viral_genomes-vs-5_28_A_S28_mapped.log | shrinksam | sambam > /groups/banfield/projects/human/data3/clou/wastewater/Mapping_to_viral_genomes/all_viral_genomes-vs-5_28_A_S28.shrink.sort.bam\n",
      "\n",
      "bowtie2 -p 20 -x /groups/banfield/projects/human/data3/clou/wastewater/Mapping_to_viral_genomes/bt2/all_viral_genomes.fna -1 /groups/banfield/projects/human/data3/clou/wastewater/raw_reads/renamed_reads/p630-N.R1.fastq.gz -2 /groups/banfield/projects/human/data3/clou/wastewater/raw_reads/renamed_reads/p630-N.R2.fastq.gz 2> /groups/banfield/projects/human/data3/clou/wastewater/Mapping_to_viral_genomes/all_viral_genomes-vs-p630-N_mapped.log | shrinksam | sambam > /groups/banfield/projects/human/data3/clou/wastewater/Mapping_to_viral_genomes/all_viral_genomes-vs-p630-N.shrink.sort.bam\n",
      "\n",
      "bowtie2 -p 20 -x /groups/banfield/projects/human/data3/clou/wastewater/Mapping_to_viral_genomes/bt2/all_viral_genomes.fna -1 /groups/banfield/projects/human/data3/clou/wastewater/raw_reads/renamed_reads/SQ2.R1.fastq.gz -2 /groups/banfield/projects/human/data3/clou/wastewater/raw_reads/renamed_reads/SQ2.R2.fastq.gz 2> /groups/banfield/projects/human/data3/clou/wastewater/Mapping_to_viral_genomes/all_viral_genomes-vs-SQ2_mapped.log | shrinksam | sambam > /groups/banfield/projects/human/data3/clou/wastewater/Mapping_to_viral_genomes/all_viral_genomes-vs-SQ2.shrink.sort.bam\n",
      "\n",
      "bowtie2 -p 20 -x /groups/banfield/projects/human/data3/clou/wastewater/Mapping_to_viral_genomes/bt2/all_viral_genomes.fna -1 /groups/banfield/projects/human/data3/clou/wastewater/raw_reads/renamed_reads/9_09_S1_S33.R1.001.fastq.gz -2 /groups/banfield/projects/human/data3/clou/wastewater/raw_reads/renamed_reads/9_09_S1_S33.R2.001.fastq.gz 2> /groups/banfield/projects/human/data3/clou/wastewater/Mapping_to_viral_genomes/all_viral_genomes-vs-9_09_S1_S33_mapped.log | shrinksam | sambam > /groups/banfield/projects/human/data3/clou/wastewater/Mapping_to_viral_genomes/all_viral_genomes-vs-9_09_S1_S33.shrink.sort.bam\n",
      "\n",
      "bowtie2 -p 20 -x /groups/banfield/projects/human/data3/clou/wastewater/Mapping_to_viral_genomes/bt2/all_viral_genomes.fna -1 /groups/banfield/projects/human/data3/clou/wastewater/raw_reads/renamed_reads/5_19_A_S4.R1.001.fastq.gz -2 /groups/banfield/projects/human/data3/clou/wastewater/raw_reads/renamed_reads/5_19_A_S4.R2.001.fastq.gz 2> /groups/banfield/projects/human/data3/clou/wastewater/Mapping_to_viral_genomes/all_viral_genomes-vs-5_19_A_S4_mapped.log | shrinksam | sambam > /groups/banfield/projects/human/data3/clou/wastewater/Mapping_to_viral_genomes/all_viral_genomes-vs-5_19_A_S4.shrink.sort.bam\n",
      "\n",
      "bowtie2 -p 20 -x /groups/banfield/projects/human/data3/clou/wastewater/Mapping_to_viral_genomes/bt2/all_viral_genomes.fna -1 /groups/banfield/projects/human/data3/clou/wastewater/raw_reads/renamed_reads/630-SF1.R1.fastq.gz -2 /groups/banfield/projects/human/data3/clou/wastewater/raw_reads/renamed_reads/630-SF1.R2.fastq.gz 2> /groups/banfield/projects/human/data3/clou/wastewater/Mapping_to_viral_genomes/all_viral_genomes-vs-630-SF1_mapped.log | shrinksam | sambam > /groups/banfield/projects/human/data3/clou/wastewater/Mapping_to_viral_genomes/all_viral_genomes-vs-630-SF1.shrink.sort.bam\n",
      "\n",
      "bowtie2 -p 20 -x /groups/banfield/projects/human/data3/clou/wastewater/Mapping_to_viral_genomes/bt2/all_viral_genomes.fna -1 /groups/banfield/projects/human/data3/clou/wastewater/raw_reads/renamed_reads/MR2.R1.fastq.gz -2 /groups/banfield/projects/human/data3/clou/wastewater/raw_reads/renamed_reads/MR2.R2.fastq.gz 2> /groups/banfield/projects/human/data3/clou/wastewater/Mapping_to_viral_genomes/all_viral_genomes-vs-MR2_mapped.log | shrinksam | sambam > /groups/banfield/projects/human/data3/clou/wastewater/Mapping_to_viral_genomes/all_viral_genomes-vs-MR2.shrink.sort.bam\n",
      "\n",
      "bowtie2 -p 20 -x /groups/banfield/projects/human/data3/clou/wastewater/Mapping_to_viral_genomes/bt2/all_viral_genomes.fna -1 /groups/banfield/projects/human/data3/clou/wastewater/raw_reads/renamed_reads/SQ_3_7_1_MOS_S15.R1.001.fastq.gz -2 /groups/banfield/projects/human/data3/clou/wastewater/raw_reads/renamed_reads/SQ_3_7_1_MOS_S15.R2.001.fastq.gz 2> /groups/banfield/projects/human/data3/clou/wastewater/Mapping_to_viral_genomes/all_viral_genomes-vs-SQ_3_7_1_MOS_S15_mapped.log | shrinksam | sambam > /groups/banfield/projects/human/data3/clou/wastewater/Mapping_to_viral_genomes/all_viral_genomes-vs-SQ_3_7_1_MOS_S15.shrink.sort.bam\n",
      "\n",
      "bowtie2 -p 20 -x /groups/banfield/projects/human/data3/clou/wastewater/Mapping_to_viral_genomes/bt2/all_viral_genomes.fna -1 /groups/banfield/projects/human/data3/clou/wastewater/raw_reads/renamed_reads/p630-S1.R1.fastq.gz -2 /groups/banfield/projects/human/data3/clou/wastewater/raw_reads/renamed_reads/p630-S1.R2.fastq.gz 2> /groups/banfield/projects/human/data3/clou/wastewater/Mapping_to_viral_genomes/all_viral_genomes-vs-p630-S1_mapped.log | shrinksam | sambam > /groups/banfield/projects/human/data3/clou/wastewater/Mapping_to_viral_genomes/all_viral_genomes-vs-p630-S1.shrink.sort.bam\n",
      "\n",
      "bowtie2 -p 20 -x /groups/banfield/projects/human/data3/clou/wastewater/Mapping_to_viral_genomes/bt2/all_viral_genomes.fna -1 /groups/banfield/projects/human/data3/clou/wastewater/raw_reads/renamed_reads/MR_1_7_1_MOS_S16.R1.001.fastq.gz -2 /groups/banfield/projects/human/data3/clou/wastewater/raw_reads/renamed_reads/MR_1_7_1_MOS_S16.R2.001.fastq.gz 2> /groups/banfield/projects/human/data3/clou/wastewater/Mapping_to_viral_genomes/all_viral_genomes-vs-MR_1_7_1_MOS_S16_mapped.log | shrinksam | sambam > /groups/banfield/projects/human/data3/clou/wastewater/Mapping_to_viral_genomes/all_viral_genomes-vs-MR_1_7_1_MOS_S16.shrink.sort.bam\n",
      "\n",
      "bowtie2 -p 20 -x /groups/banfield/projects/human/data3/clou/wastewater/Mapping_to_viral_genomes/bt2/all_viral_genomes.fna -1 /groups/banfield/projects/human/data3/clou/wastewater/raw_reads/renamed_reads/6_09_N1_S30.R1.001.fastq.gz -2 /groups/banfield/projects/human/data3/clou/wastewater/raw_reads/renamed_reads/6_09_N1_S30.R2.001.fastq.gz 2> /groups/banfield/projects/human/data3/clou/wastewater/Mapping_to_viral_genomes/all_viral_genomes-vs-6_09_N1_S30_mapped.log | shrinksam | sambam > /groups/banfield/projects/human/data3/clou/wastewater/Mapping_to_viral_genomes/all_viral_genomes-vs-6_09_N1_S30.shrink.sort.bam\n",
      "\n",
      "bowtie2 -p 20 -x /groups/banfield/projects/human/data3/clou/wastewater/Mapping_to_viral_genomes/bt2/all_viral_genomes.fna -1 /groups/banfield/projects/human/data3/clou/wastewater/raw_reads/renamed_reads/pMR2.R1.fastq.gz -2 /groups/banfield/projects/human/data3/clou/wastewater/raw_reads/renamed_reads/pMR2.R2.fastq.gz 2> /groups/banfield/projects/human/data3/clou/wastewater/Mapping_to_viral_genomes/all_viral_genomes-vs-pMR2_mapped.log | shrinksam | sambam > /groups/banfield/projects/human/data3/clou/wastewater/Mapping_to_viral_genomes/all_viral_genomes-vs-pMR2.shrink.sort.bam\n",
      "\n",
      "bowtie2 -p 20 -x /groups/banfield/projects/human/data3/clou/wastewater/Mapping_to_viral_genomes/bt2/all_viral_genomes.fna -1 /groups/banfield/projects/human/data3/clou/wastewater/raw_reads/renamed_reads/5_28_E_S26.R1.001.fastq.gz -2 /groups/banfield/projects/human/data3/clou/wastewater/raw_reads/renamed_reads/5_28_E_S26.R2.001.fastq.gz 2> /groups/banfield/projects/human/data3/clou/wastewater/Mapping_to_viral_genomes/all_viral_genomes-vs-5_28_E_S26_mapped.log | shrinksam | sambam > /groups/banfield/projects/human/data3/clou/wastewater/Mapping_to_viral_genomes/all_viral_genomes-vs-5_28_E_S26.shrink.sort.bam\n",
      "\n"
     ]
    }
   ],
   "source": [
    "import glob,os\n",
    "\n",
    "reads_path = '/groups/banfield/projects/human/data3/clou/wastewater/raw_reads/renamed_reads/*R1*fastq.gz'\n",
    "\n",
    "files = glob.glob(reads_path)\n",
    "\n",
    "out_file = open('/groups/banfield/projects/human/data3/clou/wastewater/cmd_files/map_to_all_viral_genomes.cmd', 'w')\n",
    "\n",
    "for file in files:\n",
    "    \n",
    "    filename = file.split('/')[-1]\n",
    "#     print(filename)\n",
    "    file_basename = filename.split('.R1')[0]\n",
    "#     print(file_basename)\n",
    "    \n",
    "    index_file = '/groups/banfield/projects/human/data3/clou/wastewater/Mapping_to_viral_genomes/bt2/all_viral_genomes.fna'\n",
    "    read2 = file.replace('R1','R2')\n",
    "    log_file = '/groups/banfield/projects/human/data3/clou/wastewater/Mapping_to_viral_genomes/all_viral_genomes-vs-{}_mapped.log'.format(file_basename)\n",
    "    outfile_bam = '/groups/banfield/projects/human/data3/clou/wastewater/Mapping_to_viral_genomes/all_viral_genomes-vs-{}.shrink.sort.bam'.format(file_basename)\n",
    "    \n",
    "    cmd = ('bowtie2 -p 20 -x ' + index_file \n",
    "           + ' -1 {} -2 {} 2> {}'.format(file, read2, log_file) \n",
    "           + ' | shrinksam | sambam > {}'.format(outfile_bam))\n",
    "    \n",
    "    out_file.write(cmd + '\\n')\n",
    "    print (cmd)\n",
    "    print()\n",
    "out_file.close()"
   ]
  },
  {
   "cell_type": "markdown",
   "metadata": {},
   "source": [
    "### Mapping reads to human genome"
   ]
  },
  {
   "cell_type": "code",
   "execution_count": 18,
   "metadata": {
    "scrolled": true
   },
   "outputs": [
    {
     "name": "stdout",
     "output_type": "stream",
     "text": [
      "bowtie2 -p 20 -x /groups/banfield/projects/human/data1/human_genome/bt2/hg_107 -1 /groups/banfield/projects/human/data3/clou/wastewater/raw_reads/renamed_reads/6_02_Ac_S31.R1.001.fastq.gz -2 /groups/banfield/projects/human/data3/clou/wastewater/raw_reads/renamed_reads/6_02_Ac_S31.R2.001.fastq.gz 2> /groups/banfield/projects/human/data3/clou/wastewater/Mapping_to_human/human_genome-vs-6_02_Ac_S31_mapped.log | shrinksam | sambam > /groups/banfield/projects/human/data3/clou/wastewater/Mapping_to_human/human_genome-vs-6_02_Ac_S31.shrink.sort.bam\n",
      "\n",
      "bowtie2 -p 20 -x /groups/banfield/projects/human/data1/human_genome/bt2/hg_107 -1 /groups/banfield/projects/human/data3/clou/wastewater/raw_reads/renamed_reads/MR3.R1.fastq.gz -2 /groups/banfield/projects/human/data3/clou/wastewater/raw_reads/renamed_reads/MR3.R2.fastq.gz 2> /groups/banfield/projects/human/data3/clou/wastewater/Mapping_to_human/human_genome-vs-MR3_mapped.log | shrinksam | sambam > /groups/banfield/projects/human/data3/clou/wastewater/Mapping_to_human/human_genome-vs-MR3.shrink.sort.bam\n",
      "\n",
      "bowtie2 -p 20 -x /groups/banfield/projects/human/data1/human_genome/bt2/hg_107 -1 /groups/banfield/projects/human/data3/clou/wastewater/raw_reads/renamed_reads/5_13_A_S1.R1.001.fastq.gz -2 /groups/banfield/projects/human/data3/clou/wastewater/raw_reads/renamed_reads/5_13_A_S1.R2.001.fastq.gz 2> /groups/banfield/projects/human/data3/clou/wastewater/Mapping_to_human/human_genome-vs-5_13_A_S1_mapped.log | shrinksam | sambam > /groups/banfield/projects/human/data3/clou/wastewater/Mapping_to_human/human_genome-vs-5_13_A_S1.shrink.sort.bam\n",
      "\n",
      "bowtie2 -p 20 -x /groups/banfield/projects/human/data1/human_genome/bt2/hg_107 -1 /groups/banfield/projects/human/data3/clou/wastewater/raw_reads/renamed_reads/p630-S2.R1.fastq.gz -2 /groups/banfield/projects/human/data3/clou/wastewater/raw_reads/renamed_reads/p630-S2.R2.fastq.gz 2> /groups/banfield/projects/human/data3/clou/wastewater/Mapping_to_human/human_genome-vs-p630-S2_mapped.log | shrinksam | sambam > /groups/banfield/projects/human/data3/clou/wastewater/Mapping_to_human/human_genome-vs-p630-S2.shrink.sort.bam\n",
      "\n",
      "bowtie2 -p 20 -x /groups/banfield/projects/human/data1/human_genome/bt2/hg_107 -1 /groups/banfield/projects/human/data3/clou/wastewater/raw_reads/renamed_reads/5_13_C_S2.R1.001.fastq.gz -2 /groups/banfield/projects/human/data3/clou/wastewater/raw_reads/renamed_reads/5_13_C_S2.R2.001.fastq.gz 2> /groups/banfield/projects/human/data3/clou/wastewater/Mapping_to_human/human_genome-vs-5_13_C_S2_mapped.log | shrinksam | sambam > /groups/banfield/projects/human/data3/clou/wastewater/Mapping_to_human/human_genome-vs-5_13_C_S2.shrink.sort.bam\n",
      "\n",
      "bowtie2 -p 20 -x /groups/banfield/projects/human/data1/human_genome/bt2/hg_107 -1 /groups/banfield/projects/human/data3/clou/wastewater/raw_reads/renamed_reads/5_19_F_S3.R1.001.fastq.gz -2 /groups/banfield/projects/human/data3/clou/wastewater/raw_reads/renamed_reads/5_19_F_S3.R2.001.fastq.gz 2> /groups/banfield/projects/human/data3/clou/wastewater/Mapping_to_human/human_genome-vs-5_19_F_S3_mapped.log | shrinksam | sambam > /groups/banfield/projects/human/data3/clou/wastewater/Mapping_to_human/human_genome-vs-5_19_F_S3.shrink.sort.bam\n",
      "\n",
      "bowtie2 -p 20 -x /groups/banfield/projects/human/data1/human_genome/bt2/hg_107 -1 /groups/banfield/projects/human/data3/clou/wastewater/raw_reads/renamed_reads/pMR3.R1.fastq.gz -2 /groups/banfield/projects/human/data3/clou/wastewater/raw_reads/renamed_reads/pMR3.R2.fastq.gz 2> /groups/banfield/projects/human/data3/clou/wastewater/Mapping_to_human/human_genome-vs-pMR3_mapped.log | shrinksam | sambam > /groups/banfield/projects/human/data3/clou/wastewater/Mapping_to_human/human_genome-vs-pMR3.shrink.sort.bam\n",
      "\n",
      "bowtie2 -p 20 -x /groups/banfield/projects/human/data1/human_genome/bt2/hg_107 -1 /groups/banfield/projects/human/data3/clou/wastewater/raw_reads/renamed_reads/S_3_6_30_COL_S14.R1.001.fastq.gz -2 /groups/banfield/projects/human/data3/clou/wastewater/raw_reads/renamed_reads/S_3_6_30_COL_S14.R2.001.fastq.gz 2> /groups/banfield/projects/human/data3/clou/wastewater/Mapping_to_human/human_genome-vs-S_3_6_30_COL_S14_mapped.log | shrinksam | sambam > /groups/banfield/projects/human/data3/clou/wastewater/Mapping_to_human/human_genome-vs-S_3_6_30_COL_S14.shrink.sort.bam\n",
      "\n",
      "bowtie2 -p 20 -x /groups/banfield/projects/human/data1/human_genome/bt2/hg_107 -1 /groups/banfield/projects/human/data3/clou/wastewater/raw_reads/renamed_reads/SQ1.R1.fastq.gz -2 /groups/banfield/projects/human/data3/clou/wastewater/raw_reads/renamed_reads/SQ1.R2.fastq.gz 2> /groups/banfield/projects/human/data3/clou/wastewater/Mapping_to_human/human_genome-vs-SQ1_mapped.log | shrinksam | sambam > /groups/banfield/projects/human/data3/clou/wastewater/Mapping_to_human/human_genome-vs-SQ1.shrink.sort.bam\n",
      "\n",
      "bowtie2 -p 20 -x /groups/banfield/projects/human/data1/human_genome/bt2/hg_107 -1 /groups/banfield/projects/human/data3/clou/wastewater/raw_reads/renamed_reads/6_02_Sc_S29.R1.001.fastq.gz -2 /groups/banfield/projects/human/data3/clou/wastewater/raw_reads/renamed_reads/6_02_Sc_S29.R2.001.fastq.gz 2> /groups/banfield/projects/human/data3/clou/wastewater/Mapping_to_human/human_genome-vs-6_02_Sc_S29_mapped.log | shrinksam | sambam > /groups/banfield/projects/human/data3/clou/wastewater/Mapping_to_human/human_genome-vs-6_02_Sc_S29.shrink.sort.bam\n",
      "\n",
      "bowtie2 -p 20 -x /groups/banfield/projects/human/data1/human_genome/bt2/hg_107 -1 /groups/banfield/projects/human/data3/clou/wastewater/raw_reads/renamed_reads/6_02_Nc_S27.R1.001.fastq.gz -2 /groups/banfield/projects/human/data3/clou/wastewater/raw_reads/renamed_reads/6_02_Nc_S27.R2.001.fastq.gz 2> /groups/banfield/projects/human/data3/clou/wastewater/Mapping_to_human/human_genome-vs-6_02_Nc_S27_mapped.log | shrinksam | sambam > /groups/banfield/projects/human/data3/clou/wastewater/Mapping_to_human/human_genome-vs-6_02_Nc_S27.shrink.sort.bam\n",
      "\n",
      "bowtie2 -p 20 -x /groups/banfield/projects/human/data1/human_genome/bt2/hg_107 -1 /groups/banfield/projects/human/data3/clou/wastewater/raw_reads/renamed_reads/630-S1.R1.fastq.gz -2 /groups/banfield/projects/human/data3/clou/wastewater/raw_reads/renamed_reads/630-S1.R2.fastq.gz 2> /groups/banfield/projects/human/data3/clou/wastewater/Mapping_to_human/human_genome-vs-630-S1_mapped.log | shrinksam | sambam > /groups/banfield/projects/human/data3/clou/wastewater/Mapping_to_human/human_genome-vs-630-S1.shrink.sort.bam\n",
      "\n",
      "bowtie2 -p 20 -x /groups/banfield/projects/human/data1/human_genome/bt2/hg_107 -1 /groups/banfield/projects/human/data3/clou/wastewater/raw_reads/renamed_reads/S_3_6_30_MOS_S13.R1.001.fastq.gz -2 /groups/banfield/projects/human/data3/clou/wastewater/raw_reads/renamed_reads/S_3_6_30_MOS_S13.R2.001.fastq.gz 2> /groups/banfield/projects/human/data3/clou/wastewater/Mapping_to_human/human_genome-vs-S_3_6_30_MOS_S13_mapped.log | shrinksam | sambam > /groups/banfield/projects/human/data3/clou/wastewater/Mapping_to_human/human_genome-vs-S_3_6_30_MOS_S13.shrink.sort.bam\n",
      "\n",
      "bowtie2 -p 20 -x /groups/banfield/projects/human/data1/human_genome/bt2/hg_107 -1 /groups/banfield/projects/human/data3/clou/wastewater/raw_reads/renamed_reads/pSQ1.R1.fastq.gz -2 /groups/banfield/projects/human/data3/clou/wastewater/raw_reads/renamed_reads/pSQ1.R2.fastq.gz 2> /groups/banfield/projects/human/data3/clou/wastewater/Mapping_to_human/human_genome-vs-pSQ1_mapped.log | shrinksam | sambam > /groups/banfield/projects/human/data3/clou/wastewater/Mapping_to_human/human_genome-vs-pSQ1.shrink.sort.bam\n",
      "\n",
      "bowtie2 -p 20 -x /groups/banfield/projects/human/data1/human_genome/bt2/hg_107 -1 /groups/banfield/projects/human/data3/clou/wastewater/raw_reads/renamed_reads/630-N.R1.fastq.gz -2 /groups/banfield/projects/human/data3/clou/wastewater/raw_reads/renamed_reads/630-N.R2.fastq.gz 2> /groups/banfield/projects/human/data3/clou/wastewater/Mapping_to_human/human_genome-vs-630-N_mapped.log | shrinksam | sambam > /groups/banfield/projects/human/data3/clou/wastewater/Mapping_to_human/human_genome-vs-630-N.shrink.sort.bam\n",
      "\n",
      "bowtie2 -p 20 -x /groups/banfield/projects/human/data1/human_genome/bt2/hg_107 -1 /groups/banfield/projects/human/data3/clou/wastewater/raw_reads/renamed_reads/5_28_I_S25.R1.001.fastq.gz -2 /groups/banfield/projects/human/data3/clou/wastewater/raw_reads/renamed_reads/5_28_I_S25.R2.001.fastq.gz 2> /groups/banfield/projects/human/data3/clou/wastewater/Mapping_to_human/human_genome-vs-5_28_I_S25_mapped.log | shrinksam | sambam > /groups/banfield/projects/human/data3/clou/wastewater/Mapping_to_human/human_genome-vs-5_28_I_S25.shrink.sort.bam\n",
      "\n",
      "bowtie2 -p 20 -x /groups/banfield/projects/human/data1/human_genome/bt2/hg_107 -1 /groups/banfield/projects/human/data3/clou/wastewater/raw_reads/renamed_reads/pS68-1.R1.fastq.gz -2 /groups/banfield/projects/human/data3/clou/wastewater/raw_reads/renamed_reads/pS68-1.R2.fastq.gz 2> /groups/banfield/projects/human/data3/clou/wastewater/Mapping_to_human/human_genome-vs-pS68-1_mapped.log | shrinksam | sambam > /groups/banfield/projects/human/data3/clou/wastewater/Mapping_to_human/human_genome-vs-pS68-1.shrink.sort.bam\n",
      "\n",
      "bowtie2 -p 20 -x /groups/banfield/projects/human/data1/human_genome/bt2/hg_107 -1 /groups/banfield/projects/human/data3/clou/wastewater/raw_reads/renamed_reads/p630-SF1.R1.fastq.gz -2 /groups/banfield/projects/human/data3/clou/wastewater/raw_reads/renamed_reads/p630-SF1.R2.fastq.gz 2> /groups/banfield/projects/human/data3/clou/wastewater/Mapping_to_human/human_genome-vs-p630-SF1_mapped.log | shrinksam | sambam > /groups/banfield/projects/human/data3/clou/wastewater/Mapping_to_human/human_genome-vs-p630-SF1.shrink.sort.bam\n",
      "\n",
      "bowtie2 -p 20 -x /groups/banfield/projects/human/data1/human_genome/bt2/hg_107 -1 /groups/banfield/projects/human/data3/clou/wastewater/raw_reads/renamed_reads/pSQ2.R1.fastq.gz -2 /groups/banfield/projects/human/data3/clou/wastewater/raw_reads/renamed_reads/pSQ2.R2.fastq.gz 2> /groups/banfield/projects/human/data3/clou/wastewater/Mapping_to_human/human_genome-vs-pSQ2_mapped.log | shrinksam | sambam > /groups/banfield/projects/human/data3/clou/wastewater/Mapping_to_human/human_genome-vs-pSQ2.shrink.sort.bam\n",
      "\n",
      "bowtie2 -p 20 -x /groups/banfield/projects/human/data1/human_genome/bt2/hg_107 -1 /groups/banfield/projects/human/data3/clou/wastewater/raw_reads/renamed_reads/630-S2.R1.fastq.gz -2 /groups/banfield/projects/human/data3/clou/wastewater/raw_reads/renamed_reads/630-S2.R2.fastq.gz 2> /groups/banfield/projects/human/data3/clou/wastewater/Mapping_to_human/human_genome-vs-630-S2_mapped.log | shrinksam | sambam > /groups/banfield/projects/human/data3/clou/wastewater/Mapping_to_human/human_genome-vs-630-S2.shrink.sort.bam\n",
      "\n",
      "bowtie2 -p 20 -x /groups/banfield/projects/human/data1/human_genome/bt2/hg_107 -1 /groups/banfield/projects/human/data3/clou/wastewater/raw_reads/renamed_reads/S68-1.R1.fastq.gz -2 /groups/banfield/projects/human/data3/clou/wastewater/raw_reads/renamed_reads/S68-1.R2.fastq.gz 2> /groups/banfield/projects/human/data3/clou/wastewater/Mapping_to_human/human_genome-vs-S68-1_mapped.log | shrinksam | sambam > /groups/banfield/projects/human/data3/clou/wastewater/Mapping_to_human/human_genome-vs-S68-1.shrink.sort.bam\n",
      "\n",
      "bowtie2 -p 20 -x /groups/banfield/projects/human/data1/human_genome/bt2/hg_107 -1 /groups/banfield/projects/human/data3/clou/wastewater/raw_reads/renamed_reads/5_28_A_S28.R1.001.fastq.gz -2 /groups/banfield/projects/human/data3/clou/wastewater/raw_reads/renamed_reads/5_28_A_S28.R2.001.fastq.gz 2> /groups/banfield/projects/human/data3/clou/wastewater/Mapping_to_human/human_genome-vs-5_28_A_S28_mapped.log | shrinksam | sambam > /groups/banfield/projects/human/data3/clou/wastewater/Mapping_to_human/human_genome-vs-5_28_A_S28.shrink.sort.bam\n",
      "\n",
      "bowtie2 -p 20 -x /groups/banfield/projects/human/data1/human_genome/bt2/hg_107 -1 /groups/banfield/projects/human/data3/clou/wastewater/raw_reads/renamed_reads/p630-N.R1.fastq.gz -2 /groups/banfield/projects/human/data3/clou/wastewater/raw_reads/renamed_reads/p630-N.R2.fastq.gz 2> /groups/banfield/projects/human/data3/clou/wastewater/Mapping_to_human/human_genome-vs-p630-N_mapped.log | shrinksam | sambam > /groups/banfield/projects/human/data3/clou/wastewater/Mapping_to_human/human_genome-vs-p630-N.shrink.sort.bam\n",
      "\n",
      "bowtie2 -p 20 -x /groups/banfield/projects/human/data1/human_genome/bt2/hg_107 -1 /groups/banfield/projects/human/data3/clou/wastewater/raw_reads/renamed_reads/SQ2.R1.fastq.gz -2 /groups/banfield/projects/human/data3/clou/wastewater/raw_reads/renamed_reads/SQ2.R2.fastq.gz 2> /groups/banfield/projects/human/data3/clou/wastewater/Mapping_to_human/human_genome-vs-SQ2_mapped.log | shrinksam | sambam > /groups/banfield/projects/human/data3/clou/wastewater/Mapping_to_human/human_genome-vs-SQ2.shrink.sort.bam\n",
      "\n",
      "bowtie2 -p 20 -x /groups/banfield/projects/human/data1/human_genome/bt2/hg_107 -1 /groups/banfield/projects/human/data3/clou/wastewater/raw_reads/renamed_reads/9_09_S1_S33.R1.001.fastq.gz -2 /groups/banfield/projects/human/data3/clou/wastewater/raw_reads/renamed_reads/9_09_S1_S33.R2.001.fastq.gz 2> /groups/banfield/projects/human/data3/clou/wastewater/Mapping_to_human/human_genome-vs-9_09_S1_S33_mapped.log | shrinksam | sambam > /groups/banfield/projects/human/data3/clou/wastewater/Mapping_to_human/human_genome-vs-9_09_S1_S33.shrink.sort.bam\n",
      "\n",
      "bowtie2 -p 20 -x /groups/banfield/projects/human/data1/human_genome/bt2/hg_107 -1 /groups/banfield/projects/human/data3/clou/wastewater/raw_reads/renamed_reads/5_19_A_S4.R1.001.fastq.gz -2 /groups/banfield/projects/human/data3/clou/wastewater/raw_reads/renamed_reads/5_19_A_S4.R2.001.fastq.gz 2> /groups/banfield/projects/human/data3/clou/wastewater/Mapping_to_human/human_genome-vs-5_19_A_S4_mapped.log | shrinksam | sambam > /groups/banfield/projects/human/data3/clou/wastewater/Mapping_to_human/human_genome-vs-5_19_A_S4.shrink.sort.bam\n",
      "\n",
      "bowtie2 -p 20 -x /groups/banfield/projects/human/data1/human_genome/bt2/hg_107 -1 /groups/banfield/projects/human/data3/clou/wastewater/raw_reads/renamed_reads/630-SF1.R1.fastq.gz -2 /groups/banfield/projects/human/data3/clou/wastewater/raw_reads/renamed_reads/630-SF1.R2.fastq.gz 2> /groups/banfield/projects/human/data3/clou/wastewater/Mapping_to_human/human_genome-vs-630-SF1_mapped.log | shrinksam | sambam > /groups/banfield/projects/human/data3/clou/wastewater/Mapping_to_human/human_genome-vs-630-SF1.shrink.sort.bam\n",
      "\n",
      "bowtie2 -p 20 -x /groups/banfield/projects/human/data1/human_genome/bt2/hg_107 -1 /groups/banfield/projects/human/data3/clou/wastewater/raw_reads/renamed_reads/MR2.R1.fastq.gz -2 /groups/banfield/projects/human/data3/clou/wastewater/raw_reads/renamed_reads/MR2.R2.fastq.gz 2> /groups/banfield/projects/human/data3/clou/wastewater/Mapping_to_human/human_genome-vs-MR2_mapped.log | shrinksam | sambam > /groups/banfield/projects/human/data3/clou/wastewater/Mapping_to_human/human_genome-vs-MR2.shrink.sort.bam\n",
      "\n",
      "bowtie2 -p 20 -x /groups/banfield/projects/human/data1/human_genome/bt2/hg_107 -1 /groups/banfield/projects/human/data3/clou/wastewater/raw_reads/renamed_reads/SQ_3_7_1_MOS_S15.R1.001.fastq.gz -2 /groups/banfield/projects/human/data3/clou/wastewater/raw_reads/renamed_reads/SQ_3_7_1_MOS_S15.R2.001.fastq.gz 2> /groups/banfield/projects/human/data3/clou/wastewater/Mapping_to_human/human_genome-vs-SQ_3_7_1_MOS_S15_mapped.log | shrinksam | sambam > /groups/banfield/projects/human/data3/clou/wastewater/Mapping_to_human/human_genome-vs-SQ_3_7_1_MOS_S15.shrink.sort.bam\n",
      "\n",
      "bowtie2 -p 20 -x /groups/banfield/projects/human/data1/human_genome/bt2/hg_107 -1 /groups/banfield/projects/human/data3/clou/wastewater/raw_reads/renamed_reads/p630-S1.R1.fastq.gz -2 /groups/banfield/projects/human/data3/clou/wastewater/raw_reads/renamed_reads/p630-S1.R2.fastq.gz 2> /groups/banfield/projects/human/data3/clou/wastewater/Mapping_to_human/human_genome-vs-p630-S1_mapped.log | shrinksam | sambam > /groups/banfield/projects/human/data3/clou/wastewater/Mapping_to_human/human_genome-vs-p630-S1.shrink.sort.bam\n",
      "\n",
      "bowtie2 -p 20 -x /groups/banfield/projects/human/data1/human_genome/bt2/hg_107 -1 /groups/banfield/projects/human/data3/clou/wastewater/raw_reads/renamed_reads/MR_1_7_1_MOS_S16.R1.001.fastq.gz -2 /groups/banfield/projects/human/data3/clou/wastewater/raw_reads/renamed_reads/MR_1_7_1_MOS_S16.R2.001.fastq.gz 2> /groups/banfield/projects/human/data3/clou/wastewater/Mapping_to_human/human_genome-vs-MR_1_7_1_MOS_S16_mapped.log | shrinksam | sambam > /groups/banfield/projects/human/data3/clou/wastewater/Mapping_to_human/human_genome-vs-MR_1_7_1_MOS_S16.shrink.sort.bam\n",
      "\n",
      "bowtie2 -p 20 -x /groups/banfield/projects/human/data1/human_genome/bt2/hg_107 -1 /groups/banfield/projects/human/data3/clou/wastewater/raw_reads/renamed_reads/6_09_N1_S30.R1.001.fastq.gz -2 /groups/banfield/projects/human/data3/clou/wastewater/raw_reads/renamed_reads/6_09_N1_S30.R2.001.fastq.gz 2> /groups/banfield/projects/human/data3/clou/wastewater/Mapping_to_human/human_genome-vs-6_09_N1_S30_mapped.log | shrinksam | sambam > /groups/banfield/projects/human/data3/clou/wastewater/Mapping_to_human/human_genome-vs-6_09_N1_S30.shrink.sort.bam\n",
      "\n",
      "bowtie2 -p 20 -x /groups/banfield/projects/human/data1/human_genome/bt2/hg_107 -1 /groups/banfield/projects/human/data3/clou/wastewater/raw_reads/renamed_reads/pMR2.R1.fastq.gz -2 /groups/banfield/projects/human/data3/clou/wastewater/raw_reads/renamed_reads/pMR2.R2.fastq.gz 2> /groups/banfield/projects/human/data3/clou/wastewater/Mapping_to_human/human_genome-vs-pMR2_mapped.log | shrinksam | sambam > /groups/banfield/projects/human/data3/clou/wastewater/Mapping_to_human/human_genome-vs-pMR2.shrink.sort.bam\n",
      "\n",
      "bowtie2 -p 20 -x /groups/banfield/projects/human/data1/human_genome/bt2/hg_107 -1 /groups/banfield/projects/human/data3/clou/wastewater/raw_reads/renamed_reads/5_28_E_S26.R1.001.fastq.gz -2 /groups/banfield/projects/human/data3/clou/wastewater/raw_reads/renamed_reads/5_28_E_S26.R2.001.fastq.gz 2> /groups/banfield/projects/human/data3/clou/wastewater/Mapping_to_human/human_genome-vs-5_28_E_S26_mapped.log | shrinksam | sambam > /groups/banfield/projects/human/data3/clou/wastewater/Mapping_to_human/human_genome-vs-5_28_E_S26.shrink.sort.bam\n",
      "\n"
     ]
    }
   ],
   "source": [
    "import glob,os\n",
    "\n",
    "reads_path = '/groups/banfield/projects/human/data3/clou/wastewater/raw_reads/renamed_reads/*R1*fastq.gz'\n",
    "human_genome_path = '/groups/banfield/projects/human/data1/human_genome/bt2/hg_107'\n",
    "\n",
    "files = glob.glob(reads_path)\n",
    "\n",
    "out_file = open('/groups/banfield/projects/human/data3/clou/wastewater/cmd_files/map_to_human_genome.cmd', 'w')\n",
    "\n",
    "for file in files:\n",
    "    \n",
    "    filename = file.split('/')[-1]\n",
    "#     print(filename)\n",
    "    file_basename = filename.split('.R1')[0]\n",
    "#     print(file_basename)\n",
    "    \n",
    "    read2 = file.replace('R1','R2')\n",
    "    log_file = '/groups/banfield/projects/human/data3/clou/wastewater/Mapping_to_human/human_genome-vs-{}_mapped.log'.format(file_basename)\n",
    "    outfile_bam = '/groups/banfield/projects/human/data3/clou/wastewater/Mapping_to_human/human_genome-vs-{}.shrink.sort.bam'.format(file_basename)\n",
    "    \n",
    "    cmd = ('bowtie2 -p 20 -x ' + human_genome_path \n",
    "           + ' -1 {} -2 {} 2> {}'.format(file, read2, log_file) \n",
    "           + ' | shrinksam | sambam > {}'.format(outfile_bam))\n",
    "    \n",
    "    out_file.write(cmd + '\\n')\n",
    "    print (cmd)\n",
    "    print()\n",
    "out_file.close()"
   ]
  },
  {
   "cell_type": "code",
   "execution_count": null,
   "metadata": {},
   "outputs": [],
   "source": []
  },
  {
   "cell_type": "markdown",
   "metadata": {},
   "source": [
    "## inStrain"
   ]
  },
  {
   "cell_type": "markdown",
   "metadata": {},
   "source": [
    "#### to viral genomes"
   ]
  },
  {
   "cell_type": "code",
   "execution_count": 20,
   "metadata": {
    "scrolled": true
   },
   "outputs": [
    {
     "name": "stdout",
     "output_type": "stream",
     "text": [
      "inStrain profile /groups/banfield/projects/human/data3/clou/wastewater/Mapping_to_viral_genomes/all_viral_genomes-vs-9_09_S1_S33.shrink.sort.bam /groups/banfield/projects/human/data3/clou/wastewater/viral_complete_genomes/all_viral_genomes.fna -o /groups/banfield/projects/human/data3/clou/wastewater/Mapping_to_viral_genomes/inStrain/all_viral_genomes-vs-9_09_S1_S33.shrink.sort.bam.IS -s /groups/banfield/projects/human/data3/clou/wastewater/viral_complete_genomes/indi_genomes/*fna --min_mapq 20 --min_insert 85 -p 8\n",
      "\n",
      "inStrain profile /groups/banfield/projects/human/data3/clou/wastewater/Mapping_to_viral_genomes/all_viral_genomes-vs-630-S1.shrink.sort.bam /groups/banfield/projects/human/data3/clou/wastewater/viral_complete_genomes/all_viral_genomes.fna -o /groups/banfield/projects/human/data3/clou/wastewater/Mapping_to_viral_genomes/inStrain/all_viral_genomes-vs-630-S1.shrink.sort.bam.IS -s /groups/banfield/projects/human/data3/clou/wastewater/viral_complete_genomes/indi_genomes/*fna --min_mapq 20 --min_insert 85 -p 8\n",
      "\n",
      "inStrain profile /groups/banfield/projects/human/data3/clou/wastewater/Mapping_to_viral_genomes/all_viral_genomes-vs-6_09_N1_S30.shrink.sort.bam /groups/banfield/projects/human/data3/clou/wastewater/viral_complete_genomes/all_viral_genomes.fna -o /groups/banfield/projects/human/data3/clou/wastewater/Mapping_to_viral_genomes/inStrain/all_viral_genomes-vs-6_09_N1_S30.shrink.sort.bam.IS -s /groups/banfield/projects/human/data3/clou/wastewater/viral_complete_genomes/indi_genomes/*fna --min_mapq 20 --min_insert 85 -p 8\n",
      "\n",
      "inStrain profile /groups/banfield/projects/human/data3/clou/wastewater/Mapping_to_viral_genomes/all_viral_genomes-vs-5_28_I_S25.shrink.sort.bam /groups/banfield/projects/human/data3/clou/wastewater/viral_complete_genomes/all_viral_genomes.fna -o /groups/banfield/projects/human/data3/clou/wastewater/Mapping_to_viral_genomes/inStrain/all_viral_genomes-vs-5_28_I_S25.shrink.sort.bam.IS -s /groups/banfield/projects/human/data3/clou/wastewater/viral_complete_genomes/indi_genomes/*fna --min_mapq 20 --min_insert 85 -p 8\n",
      "\n",
      "inStrain profile /groups/banfield/projects/human/data3/clou/wastewater/Mapping_to_viral_genomes/all_viral_genomes-vs-MR_1_7_1_MOS_S16.shrink.sort.bam /groups/banfield/projects/human/data3/clou/wastewater/viral_complete_genomes/all_viral_genomes.fna -o /groups/banfield/projects/human/data3/clou/wastewater/Mapping_to_viral_genomes/inStrain/all_viral_genomes-vs-MR_1_7_1_MOS_S16.shrink.sort.bam.IS -s /groups/banfield/projects/human/data3/clou/wastewater/viral_complete_genomes/indi_genomes/*fna --min_mapq 20 --min_insert 85 -p 8\n",
      "\n",
      "inStrain profile /groups/banfield/projects/human/data3/clou/wastewater/Mapping_to_viral_genomes/all_viral_genomes-vs-MR3.shrink.sort.bam /groups/banfield/projects/human/data3/clou/wastewater/viral_complete_genomes/all_viral_genomes.fna -o /groups/banfield/projects/human/data3/clou/wastewater/Mapping_to_viral_genomes/inStrain/all_viral_genomes-vs-MR3.shrink.sort.bam.IS -s /groups/banfield/projects/human/data3/clou/wastewater/viral_complete_genomes/indi_genomes/*fna --min_mapq 20 --min_insert 85 -p 8\n",
      "\n",
      "inStrain profile /groups/banfield/projects/human/data3/clou/wastewater/Mapping_to_viral_genomes/all_viral_genomes-vs-5_19_F_S3.shrink.sort.bam /groups/banfield/projects/human/data3/clou/wastewater/viral_complete_genomes/all_viral_genomes.fna -o /groups/banfield/projects/human/data3/clou/wastewater/Mapping_to_viral_genomes/inStrain/all_viral_genomes-vs-5_19_F_S3.shrink.sort.bam.IS -s /groups/banfield/projects/human/data3/clou/wastewater/viral_complete_genomes/indi_genomes/*fna --min_mapq 20 --min_insert 85 -p 8\n",
      "\n",
      "inStrain profile /groups/banfield/projects/human/data3/clou/wastewater/Mapping_to_viral_genomes/all_viral_genomes-vs-5_13_C_S2.shrink.sort.bam /groups/banfield/projects/human/data3/clou/wastewater/viral_complete_genomes/all_viral_genomes.fna -o /groups/banfield/projects/human/data3/clou/wastewater/Mapping_to_viral_genomes/inStrain/all_viral_genomes-vs-5_13_C_S2.shrink.sort.bam.IS -s /groups/banfield/projects/human/data3/clou/wastewater/viral_complete_genomes/indi_genomes/*fna --min_mapq 20 --min_insert 85 -p 8\n",
      "\n",
      "inStrain profile /groups/banfield/projects/human/data3/clou/wastewater/Mapping_to_viral_genomes/all_viral_genomes-vs-pMR2.shrink.sort.bam /groups/banfield/projects/human/data3/clou/wastewater/viral_complete_genomes/all_viral_genomes.fna -o /groups/banfield/projects/human/data3/clou/wastewater/Mapping_to_viral_genomes/inStrain/all_viral_genomes-vs-pMR2.shrink.sort.bam.IS -s /groups/banfield/projects/human/data3/clou/wastewater/viral_complete_genomes/indi_genomes/*fna --min_mapq 20 --min_insert 85 -p 8\n",
      "\n",
      "inStrain profile /groups/banfield/projects/human/data3/clou/wastewater/Mapping_to_viral_genomes/all_viral_genomes-vs-p630-SF1.shrink.sort.bam /groups/banfield/projects/human/data3/clou/wastewater/viral_complete_genomes/all_viral_genomes.fna -o /groups/banfield/projects/human/data3/clou/wastewater/Mapping_to_viral_genomes/inStrain/all_viral_genomes-vs-p630-SF1.shrink.sort.bam.IS -s /groups/banfield/projects/human/data3/clou/wastewater/viral_complete_genomes/indi_genomes/*fna --min_mapq 20 --min_insert 85 -p 8\n",
      "\n",
      "inStrain profile /groups/banfield/projects/human/data3/clou/wastewater/Mapping_to_viral_genomes/all_viral_genomes-vs-SQ_3_7_1_MOS_S15.shrink.sort.bam /groups/banfield/projects/human/data3/clou/wastewater/viral_complete_genomes/all_viral_genomes.fna -o /groups/banfield/projects/human/data3/clou/wastewater/Mapping_to_viral_genomes/inStrain/all_viral_genomes-vs-SQ_3_7_1_MOS_S15.shrink.sort.bam.IS -s /groups/banfield/projects/human/data3/clou/wastewater/viral_complete_genomes/indi_genomes/*fna --min_mapq 20 --min_insert 85 -p 8\n",
      "\n",
      "inStrain profile /groups/banfield/projects/human/data3/clou/wastewater/Mapping_to_viral_genomes/all_viral_genomes-vs-630-S2.shrink.sort.bam /groups/banfield/projects/human/data3/clou/wastewater/viral_complete_genomes/all_viral_genomes.fna -o /groups/banfield/projects/human/data3/clou/wastewater/Mapping_to_viral_genomes/inStrain/all_viral_genomes-vs-630-S2.shrink.sort.bam.IS -s /groups/banfield/projects/human/data3/clou/wastewater/viral_complete_genomes/indi_genomes/*fna --min_mapq 20 --min_insert 85 -p 8\n",
      "\n",
      "inStrain profile /groups/banfield/projects/human/data3/clou/wastewater/Mapping_to_viral_genomes/all_viral_genomes-vs-5_13_A_S1.shrink.sort.bam /groups/banfield/projects/human/data3/clou/wastewater/viral_complete_genomes/all_viral_genomes.fna -o /groups/banfield/projects/human/data3/clou/wastewater/Mapping_to_viral_genomes/inStrain/all_viral_genomes-vs-5_13_A_S1.shrink.sort.bam.IS -s /groups/banfield/projects/human/data3/clou/wastewater/viral_complete_genomes/indi_genomes/*fna --min_mapq 20 --min_insert 85 -p 8\n",
      "\n",
      "inStrain profile /groups/banfield/projects/human/data3/clou/wastewater/Mapping_to_viral_genomes/all_viral_genomes-vs-p630-N.shrink.sort.bam /groups/banfield/projects/human/data3/clou/wastewater/viral_complete_genomes/all_viral_genomes.fna -o /groups/banfield/projects/human/data3/clou/wastewater/Mapping_to_viral_genomes/inStrain/all_viral_genomes-vs-p630-N.shrink.sort.bam.IS -s /groups/banfield/projects/human/data3/clou/wastewater/viral_complete_genomes/indi_genomes/*fna --min_mapq 20 --min_insert 85 -p 8\n",
      "\n",
      "inStrain profile /groups/banfield/projects/human/data3/clou/wastewater/Mapping_to_viral_genomes/all_viral_genomes-vs-S68-1.shrink.sort.bam /groups/banfield/projects/human/data3/clou/wastewater/viral_complete_genomes/all_viral_genomes.fna -o /groups/banfield/projects/human/data3/clou/wastewater/Mapping_to_viral_genomes/inStrain/all_viral_genomes-vs-S68-1.shrink.sort.bam.IS -s /groups/banfield/projects/human/data3/clou/wastewater/viral_complete_genomes/indi_genomes/*fna --min_mapq 20 --min_insert 85 -p 8\n",
      "\n",
      "inStrain profile /groups/banfield/projects/human/data3/clou/wastewater/Mapping_to_viral_genomes/all_viral_genomes-vs-pMR3.shrink.sort.bam /groups/banfield/projects/human/data3/clou/wastewater/viral_complete_genomes/all_viral_genomes.fna -o /groups/banfield/projects/human/data3/clou/wastewater/Mapping_to_viral_genomes/inStrain/all_viral_genomes-vs-pMR3.shrink.sort.bam.IS -s /groups/banfield/projects/human/data3/clou/wastewater/viral_complete_genomes/indi_genomes/*fna --min_mapq 20 --min_insert 85 -p 8\n",
      "\n",
      "inStrain profile /groups/banfield/projects/human/data3/clou/wastewater/Mapping_to_viral_genomes/all_viral_genomes-vs-MR2.shrink.sort.bam /groups/banfield/projects/human/data3/clou/wastewater/viral_complete_genomes/all_viral_genomes.fna -o /groups/banfield/projects/human/data3/clou/wastewater/Mapping_to_viral_genomes/inStrain/all_viral_genomes-vs-MR2.shrink.sort.bam.IS -s /groups/banfield/projects/human/data3/clou/wastewater/viral_complete_genomes/indi_genomes/*fna --min_mapq 20 --min_insert 85 -p 8\n",
      "\n",
      "inStrain profile /groups/banfield/projects/human/data3/clou/wastewater/Mapping_to_viral_genomes/all_viral_genomes-vs-630-SF1.shrink.sort.bam /groups/banfield/projects/human/data3/clou/wastewater/viral_complete_genomes/all_viral_genomes.fna -o /groups/banfield/projects/human/data3/clou/wastewater/Mapping_to_viral_genomes/inStrain/all_viral_genomes-vs-630-SF1.shrink.sort.bam.IS -s /groups/banfield/projects/human/data3/clou/wastewater/viral_complete_genomes/indi_genomes/*fna --min_mapq 20 --min_insert 85 -p 8\n",
      "\n",
      "inStrain profile /groups/banfield/projects/human/data3/clou/wastewater/Mapping_to_viral_genomes/all_viral_genomes-vs-5_28_A_S28.shrink.sort.bam /groups/banfield/projects/human/data3/clou/wastewater/viral_complete_genomes/all_viral_genomes.fna -o /groups/banfield/projects/human/data3/clou/wastewater/Mapping_to_viral_genomes/inStrain/all_viral_genomes-vs-5_28_A_S28.shrink.sort.bam.IS -s /groups/banfield/projects/human/data3/clou/wastewater/viral_complete_genomes/indi_genomes/*fna --min_mapq 20 --min_insert 85 -p 8\n",
      "\n",
      "inStrain profile /groups/banfield/projects/human/data3/clou/wastewater/Mapping_to_viral_genomes/all_viral_genomes-vs-SQ2.shrink.sort.bam /groups/banfield/projects/human/data3/clou/wastewater/viral_complete_genomes/all_viral_genomes.fna -o /groups/banfield/projects/human/data3/clou/wastewater/Mapping_to_viral_genomes/inStrain/all_viral_genomes-vs-SQ2.shrink.sort.bam.IS -s /groups/banfield/projects/human/data3/clou/wastewater/viral_complete_genomes/indi_genomes/*fna --min_mapq 20 --min_insert 85 -p 8\n",
      "\n",
      "inStrain profile /groups/banfield/projects/human/data3/clou/wastewater/Mapping_to_viral_genomes/all_viral_genomes-vs-6_02_Sc_S29.shrink.sort.bam /groups/banfield/projects/human/data3/clou/wastewater/viral_complete_genomes/all_viral_genomes.fna -o /groups/banfield/projects/human/data3/clou/wastewater/Mapping_to_viral_genomes/inStrain/all_viral_genomes-vs-6_02_Sc_S29.shrink.sort.bam.IS -s /groups/banfield/projects/human/data3/clou/wastewater/viral_complete_genomes/indi_genomes/*fna --min_mapq 20 --min_insert 85 -p 8\n",
      "\n",
      "inStrain profile /groups/banfield/projects/human/data3/clou/wastewater/Mapping_to_viral_genomes/all_viral_genomes-vs-6_02_Nc_S27.shrink.sort.bam /groups/banfield/projects/human/data3/clou/wastewater/viral_complete_genomes/all_viral_genomes.fna -o /groups/banfield/projects/human/data3/clou/wastewater/Mapping_to_viral_genomes/inStrain/all_viral_genomes-vs-6_02_Nc_S27.shrink.sort.bam.IS -s /groups/banfield/projects/human/data3/clou/wastewater/viral_complete_genomes/indi_genomes/*fna --min_mapq 20 --min_insert 85 -p 8\n",
      "\n",
      "inStrain profile /groups/banfield/projects/human/data3/clou/wastewater/Mapping_to_viral_genomes/all_viral_genomes-vs-pSQ2.shrink.sort.bam /groups/banfield/projects/human/data3/clou/wastewater/viral_complete_genomes/all_viral_genomes.fna -o /groups/banfield/projects/human/data3/clou/wastewater/Mapping_to_viral_genomes/inStrain/all_viral_genomes-vs-pSQ2.shrink.sort.bam.IS -s /groups/banfield/projects/human/data3/clou/wastewater/viral_complete_genomes/indi_genomes/*fna --min_mapq 20 --min_insert 85 -p 8\n",
      "\n",
      "inStrain profile /groups/banfield/projects/human/data3/clou/wastewater/Mapping_to_viral_genomes/all_viral_genomes-vs-p630-S2.shrink.sort.bam /groups/banfield/projects/human/data3/clou/wastewater/viral_complete_genomes/all_viral_genomes.fna -o /groups/banfield/projects/human/data3/clou/wastewater/Mapping_to_viral_genomes/inStrain/all_viral_genomes-vs-p630-S2.shrink.sort.bam.IS -s /groups/banfield/projects/human/data3/clou/wastewater/viral_complete_genomes/indi_genomes/*fna --min_mapq 20 --min_insert 85 -p 8\n",
      "\n",
      "inStrain profile /groups/banfield/projects/human/data3/clou/wastewater/Mapping_to_viral_genomes/all_viral_genomes-vs-5_19_A_S4.shrink.sort.bam /groups/banfield/projects/human/data3/clou/wastewater/viral_complete_genomes/all_viral_genomes.fna -o /groups/banfield/projects/human/data3/clou/wastewater/Mapping_to_viral_genomes/inStrain/all_viral_genomes-vs-5_19_A_S4.shrink.sort.bam.IS -s /groups/banfield/projects/human/data3/clou/wastewater/viral_complete_genomes/indi_genomes/*fna --min_mapq 20 --min_insert 85 -p 8\n",
      "\n",
      "inStrain profile /groups/banfield/projects/human/data3/clou/wastewater/Mapping_to_viral_genomes/all_viral_genomes-vs-5_28_E_S26.shrink.sort.bam /groups/banfield/projects/human/data3/clou/wastewater/viral_complete_genomes/all_viral_genomes.fna -o /groups/banfield/projects/human/data3/clou/wastewater/Mapping_to_viral_genomes/inStrain/all_viral_genomes-vs-5_28_E_S26.shrink.sort.bam.IS -s /groups/banfield/projects/human/data3/clou/wastewater/viral_complete_genomes/indi_genomes/*fna --min_mapq 20 --min_insert 85 -p 8\n",
      "\n",
      "inStrain profile /groups/banfield/projects/human/data3/clou/wastewater/Mapping_to_viral_genomes/all_viral_genomes-vs-6_02_Ac_S31.shrink.sort.bam /groups/banfield/projects/human/data3/clou/wastewater/viral_complete_genomes/all_viral_genomes.fna -o /groups/banfield/projects/human/data3/clou/wastewater/Mapping_to_viral_genomes/inStrain/all_viral_genomes-vs-6_02_Ac_S31.shrink.sort.bam.IS -s /groups/banfield/projects/human/data3/clou/wastewater/viral_complete_genomes/indi_genomes/*fna --min_mapq 20 --min_insert 85 -p 8\n",
      "\n",
      "inStrain profile /groups/banfield/projects/human/data3/clou/wastewater/Mapping_to_viral_genomes/all_viral_genomes-vs-S_3_6_30_COL_S14.shrink.sort.bam /groups/banfield/projects/human/data3/clou/wastewater/viral_complete_genomes/all_viral_genomes.fna -o /groups/banfield/projects/human/data3/clou/wastewater/Mapping_to_viral_genomes/inStrain/all_viral_genomes-vs-S_3_6_30_COL_S14.shrink.sort.bam.IS -s /groups/banfield/projects/human/data3/clou/wastewater/viral_complete_genomes/indi_genomes/*fna --min_mapq 20 --min_insert 85 -p 8\n",
      "\n",
      "inStrain profile /groups/banfield/projects/human/data3/clou/wastewater/Mapping_to_viral_genomes/all_viral_genomes-vs-p630-S1.shrink.sort.bam /groups/banfield/projects/human/data3/clou/wastewater/viral_complete_genomes/all_viral_genomes.fna -o /groups/banfield/projects/human/data3/clou/wastewater/Mapping_to_viral_genomes/inStrain/all_viral_genomes-vs-p630-S1.shrink.sort.bam.IS -s /groups/banfield/projects/human/data3/clou/wastewater/viral_complete_genomes/indi_genomes/*fna --min_mapq 20 --min_insert 85 -p 8\n",
      "\n",
      "inStrain profile /groups/banfield/projects/human/data3/clou/wastewater/Mapping_to_viral_genomes/all_viral_genomes-vs-pSQ1.shrink.sort.bam /groups/banfield/projects/human/data3/clou/wastewater/viral_complete_genomes/all_viral_genomes.fna -o /groups/banfield/projects/human/data3/clou/wastewater/Mapping_to_viral_genomes/inStrain/all_viral_genomes-vs-pSQ1.shrink.sort.bam.IS -s /groups/banfield/projects/human/data3/clou/wastewater/viral_complete_genomes/indi_genomes/*fna --min_mapq 20 --min_insert 85 -p 8\n",
      "\n",
      "inStrain profile /groups/banfield/projects/human/data3/clou/wastewater/Mapping_to_viral_genomes/all_viral_genomes-vs-630-N.shrink.sort.bam /groups/banfield/projects/human/data3/clou/wastewater/viral_complete_genomes/all_viral_genomes.fna -o /groups/banfield/projects/human/data3/clou/wastewater/Mapping_to_viral_genomes/inStrain/all_viral_genomes-vs-630-N.shrink.sort.bam.IS -s /groups/banfield/projects/human/data3/clou/wastewater/viral_complete_genomes/indi_genomes/*fna --min_mapq 20 --min_insert 85 -p 8\n",
      "\n",
      "inStrain profile /groups/banfield/projects/human/data3/clou/wastewater/Mapping_to_viral_genomes/all_viral_genomes-vs-S_3_6_30_MOS_S13.shrink.sort.bam /groups/banfield/projects/human/data3/clou/wastewater/viral_complete_genomes/all_viral_genomes.fna -o /groups/banfield/projects/human/data3/clou/wastewater/Mapping_to_viral_genomes/inStrain/all_viral_genomes-vs-S_3_6_30_MOS_S13.shrink.sort.bam.IS -s /groups/banfield/projects/human/data3/clou/wastewater/viral_complete_genomes/indi_genomes/*fna --min_mapq 20 --min_insert 85 -p 8\n",
      "\n",
      "inStrain profile /groups/banfield/projects/human/data3/clou/wastewater/Mapping_to_viral_genomes/all_viral_genomes-vs-pS68-1.shrink.sort.bam /groups/banfield/projects/human/data3/clou/wastewater/viral_complete_genomes/all_viral_genomes.fna -o /groups/banfield/projects/human/data3/clou/wastewater/Mapping_to_viral_genomes/inStrain/all_viral_genomes-vs-pS68-1.shrink.sort.bam.IS -s /groups/banfield/projects/human/data3/clou/wastewater/viral_complete_genomes/indi_genomes/*fna --min_mapq 20 --min_insert 85 -p 8\n",
      "\n",
      "inStrain profile /groups/banfield/projects/human/data3/clou/wastewater/Mapping_to_viral_genomes/all_viral_genomes-vs-SQ1.shrink.sort.bam /groups/banfield/projects/human/data3/clou/wastewater/viral_complete_genomes/all_viral_genomes.fna -o /groups/banfield/projects/human/data3/clou/wastewater/Mapping_to_viral_genomes/inStrain/all_viral_genomes-vs-SQ1.shrink.sort.bam.IS -s /groups/banfield/projects/human/data3/clou/wastewater/viral_complete_genomes/indi_genomes/*fna --min_mapq 20 --min_insert 85 -p 8\n",
      "\n"
     ]
    }
   ],
   "source": [
    "# setting min mapQ score to be 20; min insert size to be 85 (since reads are ~75bp)\n",
    "\n",
    "import pandas as pd\n",
    "import os, glob\n",
    "\n",
    "Out_file = open('/groups/banfield/projects/human/data3/clou/wastewater/cmd_files/instrain_profile_to_viral_genomes.cmd', 'w')\n",
    "      \n",
    "for bam_file in glob.glob('/groups/banfield/projects/human/data3/clou/wastewater/Mapping_to_viral_genomes/*bam'):\n",
    "    bamfile = os.path.basename(bam_file)\n",
    "    sample_name = os.path.basename(bam_file).split('-vs-')[1].split('_mapped')[0]\n",
    "    \n",
    "    cat_viral_genome = '/groups/banfield/projects/human/data3/clou/wastewater/viral_complete_genomes/all_viral_genomes.fna'\n",
    "    all_viral_genomes = '/groups/banfield/projects/human/data3/clou/wastewater/viral_complete_genomes/indi_genomes/*fna'\n",
    "    \n",
    "    output = \"/groups/banfield/projects/human/data3/clou/wastewater/Mapping_to_viral_genomes/inStrain/{}.IS\".format(bamfile) \n",
    "    \n",
    "    cmd = \"inStrain profile {} {} -o {} -s {} --min_mapq 20 --min_insert 85 -p 8\"\\\n",
    "                                                     .format(bam_file, cat_viral_genome, output,all_viral_genomes)\n",
    "\n",
    "    print (cmd)\n",
    "    print()\n",
    "    Out_file.write(cmd + \"\\n\")\n",
    "    \n",
    "Out_file.close()"
   ]
  },
  {
   "cell_type": "markdown",
   "metadata": {},
   "source": [
    "#### inStrain genome_wide"
   ]
  },
  {
   "cell_type": "code",
   "execution_count": 21,
   "metadata": {
    "scrolled": true
   },
   "outputs": [],
   "source": [
    "# # setting min mapQ score to be 20; min insert size to be 85 (since reads are ~75bp)\n",
    "\n",
    "# Out_file = open('/groups/banfield/projects/human/data3/clou/wastewater/cmd_files/instrain_gw_to_viral_genomes.cmd', 'w')\n",
    "      \n",
    "# for IS in glob.glob('/groups/banfield/projects/human/data3/clou/wastewater/Mapping_to_viral_genomes/inStrain/*IS'):\n",
    "    \n",
    "#     viral_genomes = '/groups/banfield/projects/human/data3/clou/wastewater/viral_complete_genomes/indi_genomes/*fna'\n",
    "    \n",
    "#     cmd = \"inStrain genome_wide -i {} -s {}\".format(IS, viral_genomes)\n",
    "\n",
    "#     print (cmd)\n",
    "#     print()\n",
    "#     Out_file.write(cmd + \"\\n\")\n",
    "    \n",
    "# Out_file.close()"
   ]
  },
  {
   "cell_type": "markdown",
   "metadata": {},
   "source": [
    "#### to huma genome\n",
    "\n",
    "Extracting mapping info directly from bt2"
   ]
  },
  {
   "cell_type": "code",
   "execution_count": null,
   "metadata": {},
   "outputs": [],
   "source": []
  },
  {
   "cell_type": "code",
   "execution_count": null,
   "metadata": {},
   "outputs": [],
   "source": []
  }
 ],
 "metadata": {
  "kernelspec": {
   "display_name": "Python 3",
   "language": "python",
   "name": "python3"
  },
  "language_info": {
   "codemirror_mode": {
    "name": "ipython",
    "version": 3
   },
   "file_extension": ".py",
   "mimetype": "text/x-python",
   "name": "python",
   "nbconvert_exporter": "python",
   "pygments_lexer": "ipython3",
   "version": "3.8.2"
  }
 },
 "nbformat": 4,
 "nbformat_minor": 4
}
